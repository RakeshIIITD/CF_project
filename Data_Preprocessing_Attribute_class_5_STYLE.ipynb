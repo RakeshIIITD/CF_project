{
 "cells": [
  {
   "cell_type": "raw",
   "metadata": {
    "deletable": true,
    "editable": true
   },
   "source": [
    "(1) Using only Category(50 [1,2,3]) and Attributes(1000 - [1,2,3,4,5])"
   ]
  },
  {
   "cell_type": "code",
   "execution_count": 1,
   "metadata": {
    "collapsed": true,
    "deletable": true,
    "editable": true
   },
   "outputs": [],
   "source": [
    "import pandas as pd\n",
    "from matplotlib import pyplot as plt\n",
    "import glob\n",
    "from collections import Counter,defaultdict\n",
    "import matplotlib.image as mpimg\n",
    "from IPython.display import clear_output\n",
    "import time\n",
    "import warnings\n",
    "warnings.filterwarnings('ignore')\n",
    "from  sklearn.model_selection import train_test_split\n",
    "import sys,os\n",
    "from shutil import copyfile\n",
    "import numpy as np\n"
   ]
  },
  {
   "cell_type": "code",
   "execution_count": 2,
   "metadata": {
    "collapsed": true,
    "deletable": true,
    "editable": true
   },
   "outputs": [],
   "source": [
    "attribute_img_path = '/media/mint/New Volume/3_semester_IIIT_D/CF/project/Category and Attribute/Anno/list_attr_img.txt'\n",
    "attribute_cloth_path = '/media/mint/New Volume/3_semester_IIIT_D/CF/project/Category and Attribute/Anno/list_attr_cloth.txt'\n",
    "img_path = '/media/mint/New Volume/3_semester_IIIT_D/CF/project/Category and Attribute/img/'"
   ]
  },
  {
   "cell_type": "code",
   "execution_count": 3,
   "metadata": {
    "collapsed": false,
    "deletable": true,
    "editable": true
   },
   "outputs": [],
   "source": [
    "# attribute_img = pd.read_csv(attribute_img_path,delim_whitespace=True)\n",
    "attribute_cloth = pd.read_csv(attribute_cloth_path, sep=\"\\s\\s+\") # columns = ['attribute_name', 'attribute_type'])"
   ]
  },
  {
   "cell_type": "markdown",
   "metadata": {
    "deletable": true,
    "editable": true
   },
   "source": [
    "# reading attribute_img_path chunksize wise"
   ]
  },
  {
   "cell_type": "code",
   "execution_count": 4,
   "metadata": {
    "collapsed": false,
    "deletable": true,
    "editable": true
   },
   "outputs": [
    {
     "name": "stdout",
     "output_type": "stream",
     "text": [
      "Counter({893: 7614, 163: 7181, 761: 6714, 706: 6569, 578: 5934, 782: 3900, 824: 3379, 693: 2882, 238: 2550, 564: 2506, 439: 2337, 84: 2126, 142: 2096, 100: 2000, 852: 1995, 438: 1968, 45: 1880, 989: 1877, 250: 1864, 654: 1813, 900: 1769, 765: 1725, 49: 1724, 853: 1718, 938: 1671, 987: 1622, 513: 1488, 46: 1476, 307: 1428, 31: 1330, 983: 1275, 901: 1240, 563: 1214, 539: 1108, 959: 1101, 481: 1098, 932: 1082, 954: 1067, 692: 1022, 28: 1017, 160: 938, 872: 934, 794: 891, 702: 886, 263: 867, 568: 847, 325: 841, 902: 787, 303: 766, 447: 661, 975: 660, 778: 652, 757: 629, 764: 626, 73: 621, 873: 615, 120: 614, 133: 603, 655: 589, 105: 579, 978: 565, 988: 558, 688: 548, 18: 533, 931: 532, 294: 525, 412: 518, 85: 514, 659: 509, 304: 500, 24: 491, 894: 486, 610: 474, 484: 468, 928: 450, 713: 442, 588: 431, 632: 402, 420: 401, 479: 394, 784: 388, 61: 387, 453: 378, 658: 371, 276: 371, 891: 368, 583: 362, 106: 358, 127: 356, 335: 355, 577: 347, 406: 341, 835: 328, 611: 325, 861: 315, 974: 311, 635: 308, 179: 306, 790: 304, 419: 301, 867: 298, 805: 293, 933: 290, 181: 287, 916: 286, 793: 279, 42: 276, 973: 270, 990: 261, 251: 258, 929: 256, 678: 254, 612: 246, 846: 244, 245: 242, 767: 240, 592: 237, 365: 232, 493: 230, 705: 229, 409: 227, 712: 225, 29: 224, 628: 224, 56: 222, 730: 221, 353: 218, 634: 216, 716: 209, 262: 207, 779: 203, 850: 200, 30: 196, 542: 194, 482: 193, 593: 190, 924: 190, 766: 183, 729: 178, 760: 177, 161: 176, 896: 176, 448: 175, 904: 173, 958: 173, 352: 165, 946: 165, 754: 164, 851: 160, 494: 160, 72: 156, 780: 155, 459: 153, 815: 152, 636: 151, 540: 148, 871: 146, 691: 144, 622: 138, 642: 136, 323: 136, 334: 136, 796: 130, 579: 129, 47: 128, 491: 126, 825: 123, 897: 121, 795: 120, 589: 115, 753: 115, 727: 114, 407: 114, 249: 113, 963: 109, 991: 105, 421: 105, 17: 103, 121: 103, 429: 103, 781: 98, 80: 95, 624: 95, 763: 93, 364: 91, 395: 91, 967: 89, 351: 88, 762: 88, 57: 86, 296: 84, 485: 84, 159: 83, 305: 83, 324: 80, 866: 80, 596: 79, 913: 78, 282: 77, 906: 77, 623: 75, 264: 75, 808: 73, 895: 73, 927: 73, 847: 73, 601: 72, 657: 72, 413: 72, 977: 71, 460: 70, 979: 70, 633: 69, 618: 68, 492: 68, 449: 67, 969: 67, 982: 67, 869: 65, 751: 62, 302: 60, 480: 59, 295: 57, 939: 57, 76: 56, 909: 56, 131: 55, 582: 55, 565: 54, 254: 52})\n"
     ]
    }
   ],
   "source": [
    "chunksize = 10 ** 4\n",
    "attribute_type = 5\n",
    "\n",
    "# print chunksize\n",
    "# attribute_img = 0\n",
    "dd = []\n",
    "for chunk in pd.read_csv(attribute_img_path, sep=\"\\s\\s\\s+\", chunksize=chunksize):\n",
    "    attribute_img = chunk\n",
    "    \n",
    "    for i in attribute_img['attribute_labels']:\n",
    "        if type(i) == str:\n",
    "\n",
    "            ll = i.split()\n",
    "            ll = np.array(ll)\n",
    "            pos = np.where(ll == '1')[0]\n",
    "            for j in pos:\n",
    "                if attribute_cloth.iloc[j]['attribute_type'] == attribute_type: \n",
    "                    dd.append(j+1)\n",
    "dist = Counter(dd)\n",
    "# print dist\n",
    "print dist"
   ]
  },
  {
   "cell_type": "code",
   "execution_count": 5,
   "metadata": {
    "collapsed": false,
    "deletable": true,
    "editable": true
   },
   "outputs": [
    {
     "name": "stdout",
     "output_type": "stream",
     "text": [
      "289222\n"
     ]
    }
   ],
   "source": [
    "chunksize = 10 ** 4\n",
    "\n",
    "image_name = []\n",
    "for chunk in pd.read_csv(attribute_img_path, sep=\"\\s\\s\\s+\", chunksize=chunksize):\n",
    "    attribute_img = chunk\n",
    "    \n",
    "    for i in attribute_img['image_name']:\n",
    "        image_name.append(i)\n",
    "        \n",
    "print len(image_name)"
   ]
  },
  {
   "cell_type": "code",
   "execution_count": 6,
   "metadata": {
    "collapsed": false,
    "deletable": true,
    "editable": true
   },
   "outputs": [
    {
     "name": "stdout",
     "output_type": "stream",
     "text": [
      "img/Sheer_Pleated-Front_Blouse/img_00000001.jpg\n",
      "img/Sheer_Pleated-Front_Blouse/img_00000002.jpg\n"
     ]
    }
   ],
   "source": [
    "print image_name[0]\n",
    "print image_name[1]"
   ]
  },
  {
   "cell_type": "code",
   "execution_count": 7,
   "metadata": {
    "collapsed": false,
    "deletable": true,
    "editable": true
   },
   "outputs": [
    {
     "name": "stdout",
     "output_type": "stream",
     "text": [
      "\n",
      "done\n",
      "defaultdict(None, {513: 5, 989: 5, 17: 5, 18: 5, 24: 5, 539: 5, 28: 5, 29: 5, 30: 5, 31: 5, 42: 5, 45: 5, 46: 5, 47: 5, 49: 5, 563: 5, 564: 5, 565: 5, 56: 5, 57: 5, 61: 5, 693: 5, 577: 5, 578: 5, 579: 5, 582: 5, 583: 5, 72: 5, 73: 5, 76: 5, 589: 5, 80: 5, 593: 5, 84: 5, 85: 5, 601: 5, 610: 5, 611: 5, 100: 5, 105: 5, 106: 5, 622: 5, 623: 5, 624: 5, 872: 5, 628: 5, 120: 5, 121: 5, 634: 5, 635: 5, 636: 5, 618: 5, 127: 5, 642: 5, 131: 5, 133: 5, 142: 5, 655: 5, 657: 5, 658: 5, 659: 5, 959: 5, 794: 5, 159: 5, 160: 5, 161: 5, 163: 5, 678: 5, 540: 5, 967: 5, 688: 5, 179: 5, 692: 5, 181: 5, 969: 5, 702: 5, 705: 5, 706: 5, 712: 5, 713: 5, 716: 5, 808: 5, 632: 5, 757: 5, 633: 5, 729: 5, 730: 5, 977: 5, 238: 5, 751: 5, 753: 5, 754: 5, 979: 5, 245: 5, 760: 5, 249: 5, 250: 5, 251: 5, 764: 5, 765: 5, 254: 5, 767: 5, 262: 5, 263: 5, 264: 5, 778: 5, 727: 5, 780: 5, 781: 5, 782: 5, 784: 5, 276: 5, 691: 5, 790: 5, 793: 5, 282: 5, 795: 5, 796: 5, 987: 5, 805: 5, 294: 5, 295: 5, 296: 5, 302: 5, 303: 5, 304: 5, 305: 5, 307: 5, 824: 5, 825: 5, 991: 5, 323: 5, 324: 5, 325: 5, 334: 5, 335: 5, 568: 5, 850: 5, 851: 5, 852: 5, 654: 5, 983: 5, 861: 5, 351: 5, 352: 5, 353: 5, 866: 5, 867: 5, 869: 5, 871: 5, 779: 5, 873: 5, 364: 5, 365: 5, 592: 5, 933: 5, 891: 5, 893: 5, 894: 5, 895: 5, 896: 5, 897: 5, 900: 5, 901: 5, 902: 5, 904: 5, 906: 5, 395: 5, 909: 5, 913: 5, 835: 5, 916: 5, 406: 5, 407: 5, 409: 5, 542: 5, 412: 5, 413: 5, 927: 5, 928: 5, 815: 5, 419: 5, 420: 5, 421: 5, 924: 5, 938: 5, 939: 5, 429: 5, 946: 5, 438: 5, 439: 5, 954: 5, 958: 5, 447: 5, 448: 5, 449: 5, 963: 5, 453: 5, 929: 5, 588: 5, 459: 5, 460: 5, 973: 5, 974: 5, 975: 5, 612: 5, 978: 5, 931: 5, 846: 5, 982: 5, 761: 5, 932: 5, 847: 5, 988: 5, 762: 5, 990: 5, 479: 5, 480: 5, 481: 5, 482: 5, 763: 5, 484: 5, 485: 5, 491: 5, 492: 5, 493: 5, 494: 5, 766: 5, 596: 5, 853: 5})\n"
     ]
    }
   ],
   "source": [
    "## root class distribution\n",
    "import numpy as np\n",
    "\n",
    "## convert 50 class to their names\n",
    "order_map = {}\n",
    "for i in attribute_cloth.index:\n",
    "    if attribute_cloth.iloc[i]['attribute_type'] == attribute_type: \n",
    "        order_map[i+1] = attribute_cloth.iloc[i]['attribute_name']\n",
    "\n",
    "    \n",
    "# print order_map\n",
    "print \n",
    "#   distribution\n",
    "attribute_cloth_map = defaultdict()\n",
    "    \n",
    "for i in attribute_cloth.index:\n",
    "    if attribute_cloth.iloc[i]['attribute_type'] == attribute_type: \n",
    "        attribute_cloth_map[i+1] = attribute_cloth.loc[i]['attribute_type']\n",
    "    \n",
    "print 'done'\n",
    "print attribute_cloth_map\n",
    "# right above it\n",
    "    \n",
    "class50_map = {}\n"
   ]
  },
  {
   "cell_type": "markdown",
   "metadata": {
    "deletable": true,
    "editable": true
   },
   "source": [
    "## DATASET PREPARATION : FILTERING MINORITY CLASSES"
   ]
  },
  {
   "cell_type": "code",
   "execution_count": 8,
   "metadata": {
    "collapsed": false,
    "deletable": true,
    "editable": true
   },
   "outputs": [
    {
     "name": "stdout",
     "output_type": "stream",
     "text": [
      "done\n",
      "289222\n"
     ]
    }
   ],
   "source": [
    "## ===========      CREATE A DATAFRAME OF IMAGE PATH AND ITS LABELS   =====================\n",
    "image_path = []\n",
    "image_label = []\n",
    "# print attribute_img.iloc[0]['attribute_labels']\n",
    "loc = 0\n",
    "for chunk in pd.read_csv(attribute_img_path, sep=\"\\s\\s\\s+\", chunksize=chunksize):\n",
    "    attribute_img = chunk\n",
    "    \n",
    "    \n",
    "    for i in attribute_img['attribute_labels']:\n",
    "        if type(i) == str:\n",
    "\n",
    "            ll = i.split()\n",
    "            ll = np.array(ll)\n",
    "            pos = np.where(ll == '1')[0]\n",
    "            for j in pos:\n",
    "                if attribute_cloth.iloc[j]['attribute_type'] == attribute_type:\n",
    "                    if dist[j+1]>=5934:   # change here for number of classes\n",
    "                        #print 'hi'\n",
    "                        #print image_name[pos]\n",
    "                        image_path.append(image_name[loc])#attribute_img.iloc[i]['image_name'])\n",
    "                        image_label.append(order_map[j+1])\n",
    "                        #class50_map[ attribute_img.iloc[i]['image_name']] = order_map[j]\n",
    "                #dd.append(j+1)\n",
    "        loc += 1\n",
    "            \n",
    "\n",
    "print 'done'\n",
    "print loc"
   ]
  },
  {
   "cell_type": "code",
   "execution_count": 9,
   "metadata": {
    "collapsed": false,
    "deletable": true,
    "editable": true
   },
   "outputs": [
    {
     "name": "stdout",
     "output_type": "stream",
     "text": [
      "DATASET CLASS DISTRIBUTION\n",
      "\n",
      "n_classes : 5\n",
      "Counter({'summer': 7614, 'classic': 7181, 'red': 6714, 'pink': 6569, 'love': 5934})\n"
     ]
    }
   ],
   "source": [
    "df = pd.DataFrame({'path':image_path,'label':image_label})\n",
    "df.to_csv('dataset.csv')\n",
    "\n",
    "print \"DATASET CLASS DISTRIBUTION\\n\"\n",
    "print \"n_classes : \"+str(len(Counter(df['label'])))\n",
    "print Counter(df['label'])"
   ]
  },
  {
   "cell_type": "code",
   "execution_count": 10,
   "metadata": {
    "collapsed": false,
    "deletable": true,
    "editable": true
   },
   "outputs": [
    {
     "data": {
      "text/html": [
       "<div>\n",
       "<style scoped>\n",
       "    .dataframe tbody tr th:only-of-type {\n",
       "        vertical-align: middle;\n",
       "    }\n",
       "\n",
       "    .dataframe tbody tr th {\n",
       "        vertical-align: top;\n",
       "    }\n",
       "\n",
       "    .dataframe thead th {\n",
       "        text-align: right;\n",
       "    }\n",
       "</style>\n",
       "<table border=\"1\" class=\"dataframe\">\n",
       "  <thead>\n",
       "    <tr style=\"text-align: right;\">\n",
       "      <th></th>\n",
       "      <th>label</th>\n",
       "      <th>path</th>\n",
       "    </tr>\n",
       "  </thead>\n",
       "  <tbody>\n",
       "    <tr>\n",
       "      <th>0</th>\n",
       "      <td>love</td>\n",
       "      <td>img/Sheer_Pleated-Front_Blouse/img_00000009.jpg</td>\n",
       "    </tr>\n",
       "    <tr>\n",
       "      <th>1</th>\n",
       "      <td>classic</td>\n",
       "      <td>img/Sheer_Pleated-Front_Blouse/img_00000010.jpg</td>\n",
       "    </tr>\n",
       "    <tr>\n",
       "      <th>2</th>\n",
       "      <td>love</td>\n",
       "      <td>img/Sheer_Pleated-Front_Blouse/img_00000010.jpg</td>\n",
       "    </tr>\n",
       "  </tbody>\n",
       "</table>\n",
       "</div>"
      ],
      "text/plain": [
       "     label                                             path\n",
       "0     love  img/Sheer_Pleated-Front_Blouse/img_00000009.jpg\n",
       "1  classic  img/Sheer_Pleated-Front_Blouse/img_00000010.jpg\n",
       "2     love  img/Sheer_Pleated-Front_Blouse/img_00000010.jpg"
      ]
     },
     "execution_count": 10,
     "metadata": {},
     "output_type": "execute_result"
    }
   ],
   "source": [
    "df.head(3)"
   ]
  },
  {
   "cell_type": "markdown",
   "metadata": {
    "deletable": true,
    "editable": true
   },
   "source": [
    "# TOP 5 ATTRIBUTE VISUALISATION"
   ]
  },
  {
   "cell_type": "code",
   "execution_count": 11,
   "metadata": {
    "collapsed": false,
    "deletable": true,
    "editable": true
   },
   "outputs": [
    {
     "data": {
      "image/png": "[encoded data removed]",
      "text/plain": [
       "<matplotlib.figure.Figure at 0x7f4b3468bb50>"
      ]
     },
     "metadata": {},
     "output_type": "display_data"
    }
   ],
   "source": [
    "import seaborn as sb\n",
    "\n",
    "# gen_order = df['label'].value_count().index\n",
    "sb.countplot(data=df, x='label', color='blue')\n",
    "# plt.bar(df, label=df['label'], color='blue')\n",
    "# plt.legend()\n",
    "plt.ylabel('#IMAGES')\n",
    "plt.xticks(rotation=45)\n",
    "plt.title('top-5 class of STYLE')\n",
    "plt.savefig('style.png')\n",
    "plt.show()"
   ]
  },
  {
   "cell_type": "markdown",
   "metadata": {
    "deletable": true,
    "editable": true
   },
   "source": [
    "# CLASS BALANCE"
   ]
  },
  {
   "cell_type": "code",
   "execution_count": 11,
   "metadata": {
    "collapsed": false,
    "deletable": true,
    "editable": true
   },
   "outputs": [
    {
     "data": {
      "text/plain": [
       "Counter({'classic': 6000,\n",
       "         'love': 5934,\n",
       "         'pink': 6000,\n",
       "         'red': 6000,\n",
       "         'summer': 6000})"
      ]
     },
     "execution_count": 11,
     "metadata": {},
     "output_type": "execute_result"
    }
   ],
   "source": [
    "## balance classes\n",
    "UPPER_LIMIT = 6000#8000\n",
    "\n",
    "count_dict = defaultdict(lambda : 0)\n",
    "\n",
    "labels =[]\n",
    "paths =[]\n",
    "\n",
    "for i,l in enumerate(image_label):\n",
    "    if l=='summer' or l =='classic' or l =='red' or l=='pink' or l=='love':\n",
    "        if count_dict[l] < UPPER_LIMIT:\n",
    "            labels.append(image_label[i])\n",
    "            paths.append(image_path[i])\n",
    "    count_dict[l]+=1\n",
    "    \n",
    "df = pd.DataFrame({'path':paths,'label':labels})\n",
    "Counter(df['label'])"
   ]
  },
  {
   "cell_type": "code",
   "execution_count": 12,
   "metadata": {
    "collapsed": false,
    "deletable": true,
    "editable": true
   },
   "outputs": [
    {
     "name": "stdout",
     "output_type": "stream",
     "text": [
      "TRAIN data size \n",
      "(29, 2)\n",
      "TEST and VALIDATION data size  \n",
      "(29905, 2)\n"
     ]
    }
   ],
   "source": [
    "## PREPARE   TRAIN , TEST , VALIDATION :STRATIFIED\n",
    "TEST_SIZE = 0.999\n",
    "\n",
    "X_train, X_test, y_train, y_test = train_test_split(df['path'], df['label'],stratify=df['label'], test_size=TEST_SIZE)\n",
    "\n",
    "train = pd.DataFrame({'path':X_train,'label':y_train})\n",
    "test_data = pd.DataFrame({'path':X_test,'label':y_test})\n",
    "\n",
    "# clear variables\n",
    "\n",
    "del X_train, X_test, y_train, y_test\n",
    "print \"TRAIN data size \"\n",
    "print train.shape\n",
    "\n",
    "print \"TEST and VALIDATION data size  \"\n",
    "print test_data.shape\n",
    "\n",
    "X_val, X_test, y_val, y_test = train_test_split(test_data['path'], test_data['label'],stratify=test_data['label'], test_size=0.25)\n",
    "\n",
    "val = pd.DataFrame({'path':X_val,'label':y_val})\n",
    "test = pd.DataFrame({'path':X_test,'label':y_test})\n",
    "\n",
    "# clear variables\n",
    "\n",
    "del X_val, X_test, y_val, y_test,df\n",
    "\n",
    "Counter(test['label'])\n",
    "\n",
    "\n",
    "#  ====== DROP INDEXES ============\n",
    "\n",
    "\n",
    "val = val.reset_index(drop=True)\n",
    "test = test.reset_index(drop=True)"
   ]
  },
  {
   "cell_type": "code",
   "execution_count": 13,
   "metadata": {
    "collapsed": false,
    "deletable": true,
    "editable": true
   },
   "outputs": [
    {
     "name": "stdout",
     "output_type": "stream",
     "text": [
      "7477\n",
      "22428\n"
     ]
    }
   ],
   "source": [
    "print sum(Counter(test['label']).values())\n",
    "print sum(Counter(val['label']).values())"
   ]
  },
  {
   "cell_type": "code",
   "execution_count": 14,
   "metadata": {
    "collapsed": false,
    "deletable": true,
    "editable": true
   },
   "outputs": [
    {
     "data": {
      "text/html": [
       "<div>\n",
       "<style scoped>\n",
       "    .dataframe tbody tr th:only-of-type {\n",
       "        vertical-align: middle;\n",
       "    }\n",
       "\n",
       "    .dataframe tbody tr th {\n",
       "        vertical-align: top;\n",
       "    }\n",
       "\n",
       "    .dataframe thead th {\n",
       "        text-align: right;\n",
       "    }\n",
       "</style>\n",
       "<table border=\"1\" class=\"dataframe\">\n",
       "  <thead>\n",
       "    <tr style=\"text-align: right;\">\n",
       "      <th></th>\n",
       "      <th>label</th>\n",
       "      <th>path</th>\n",
       "    </tr>\n",
       "  </thead>\n",
       "  <tbody>\n",
       "    <tr>\n",
       "      <th>0</th>\n",
       "      <td>pink</td>\n",
       "      <td>img/Floral_Button-Front_Dress/img_00000044.jpg</td>\n",
       "    </tr>\n",
       "    <tr>\n",
       "      <th>1</th>\n",
       "      <td>classic</td>\n",
       "      <td>img/Classic_Two-Button_Blazer/img_00000037.jpg</td>\n",
       "    </tr>\n",
       "    <tr>\n",
       "      <th>2</th>\n",
       "      <td>love</td>\n",
       "      <td>img/Boxy_Marled_Knit_Top/img_00000006.jpg</td>\n",
       "    </tr>\n",
       "    <tr>\n",
       "      <th>3</th>\n",
       "      <td>pink</td>\n",
       "      <td>img/Slouchy_Marled_Sweater/img_00000049.jpg</td>\n",
       "    </tr>\n",
       "    <tr>\n",
       "      <th>4</th>\n",
       "      <td>red</td>\n",
       "      <td>img/Fluttered_Polka_Dot_Blouse/img_00000050.jpg</td>\n",
       "    </tr>\n",
       "  </tbody>\n",
       "</table>\n",
       "</div>"
      ],
      "text/plain": [
       "     label                                             path\n",
       "0     pink   img/Floral_Button-Front_Dress/img_00000044.jpg\n",
       "1  classic   img/Classic_Two-Button_Blazer/img_00000037.jpg\n",
       "2     love        img/Boxy_Marled_Knit_Top/img_00000006.jpg\n",
       "3     pink      img/Slouchy_Marled_Sweater/img_00000049.jpg\n",
       "4      red  img/Fluttered_Polka_Dot_Blouse/img_00000050.jpg"
      ]
     },
     "execution_count": 14,
     "metadata": {},
     "output_type": "execute_result"
    }
   ],
   "source": [
    "val.head()"
   ]
  },
  {
   "cell_type": "code",
   "execution_count": 15,
   "metadata": {
    "collapsed": false,
    "deletable": true,
    "editable": true
   },
   "outputs": [
    {
     "data": {
      "text/html": [
       "<div>\n",
       "<style scoped>\n",
       "    .dataframe tbody tr th:only-of-type {\n",
       "        vertical-align: middle;\n",
       "    }\n",
       "\n",
       "    .dataframe tbody tr th {\n",
       "        vertical-align: top;\n",
       "    }\n",
       "\n",
       "    .dataframe thead th {\n",
       "        text-align: right;\n",
       "    }\n",
       "</style>\n",
       "<table border=\"1\" class=\"dataframe\">\n",
       "  <thead>\n",
       "    <tr style=\"text-align: right;\">\n",
       "      <th></th>\n",
       "      <th>label</th>\n",
       "      <th>path</th>\n",
       "    </tr>\n",
       "  </thead>\n",
       "  <tbody>\n",
       "    <tr>\n",
       "      <th>0</th>\n",
       "      <td>summer</td>\n",
       "      <td>img/Quilted_Sweatpants/img_00000056.jpg</td>\n",
       "    </tr>\n",
       "    <tr>\n",
       "      <th>1</th>\n",
       "      <td>love</td>\n",
       "      <td>img/Varsity-Striped_Scuba_Knit_Skirt/img_00000...</td>\n",
       "    </tr>\n",
       "    <tr>\n",
       "      <th>2</th>\n",
       "      <td>summer</td>\n",
       "      <td>img/Crochet-Trimmed_Floral_Romper/img_00000031...</td>\n",
       "    </tr>\n",
       "    <tr>\n",
       "      <th>3</th>\n",
       "      <td>love</td>\n",
       "      <td>img/Knit_Romper/img_00000007.jpg</td>\n",
       "    </tr>\n",
       "    <tr>\n",
       "      <th>4</th>\n",
       "      <td>classic</td>\n",
       "      <td>img/Classic_Boyfriend_Blazer/img_00000132.jpg</td>\n",
       "    </tr>\n",
       "  </tbody>\n",
       "</table>\n",
       "</div>"
      ],
      "text/plain": [
       "     label                                               path\n",
       "0   summer            img/Quilted_Sweatpants/img_00000056.jpg\n",
       "1     love  img/Varsity-Striped_Scuba_Knit_Skirt/img_00000...\n",
       "2   summer  img/Crochet-Trimmed_Floral_Romper/img_00000031...\n",
       "3     love                   img/Knit_Romper/img_00000007.jpg\n",
       "4  classic      img/Classic_Boyfriend_Blazer/img_00000132.jpg"
      ]
     },
     "execution_count": 15,
     "metadata": {},
     "output_type": "execute_result"
    }
   ],
   "source": [
    "test.head()"
   ]
  },
  {
   "cell_type": "code",
   "execution_count": 16,
   "metadata": {
    "collapsed": false,
    "deletable": true,
    "editable": true
   },
   "outputs": [
    {
     "name": "stdout",
     "output_type": "stream",
     "text": [
      "Total Images : 7477\n",
      "0\n",
      "1000\n",
      "2000\n",
      "3000\n",
      "4000\n",
      "5000\n",
      "6000\n",
      "7000\n"
     ]
    }
   ],
   "source": [
    "## create directories and save data\n",
    "# dest_dir = '/media/mint/New Volume/3_semester_IIIT_D/CF/project/small_data_attri5/test/'\n",
    "dest_dir = '/media/mint/New Volume/3_semester_IIIT_D/CF/project/30_11_new/small_data_attri5/test/'\n",
    "\n",
    "def create_folders(data):\n",
    "    \n",
    "    print \"Total Images : \"+str(data.shape[0])\n",
    "    global dest_dir\n",
    "    for i in data.index:\n",
    "        label = data.iloc[i]['label']\n",
    "        #print label\n",
    "        src = img_path+data.iloc[i]['path']\n",
    "        #print src\n",
    "        #print dest_dir+'/'+label\n",
    "        #break\n",
    "        \n",
    "#         if not os.path.exists(dest_dir+label):\n",
    "#             os.makedirs(dest_dir+label)\n",
    "            \n",
    "        copyfile(src, dest_dir+label+'/'+data.iloc[i]['path'].split('/')[-2]+'_'+data.iloc[i]['path'].split('/')[-1])\n",
    "        if i%1000==0:\n",
    "            print i\n",
    "    \n",
    "create_folders(test)    "
   ]
  },
  {
   "cell_type": "code",
   "execution_count": 17,
   "metadata": {
    "collapsed": false,
    "deletable": true,
    "editable": true
   },
   "outputs": [
    {
     "name": "stdout",
     "output_type": "stream",
     "text": [
      "Total Images : 22428\n",
      "0\n",
      "1000\n",
      "2000\n",
      "3000\n",
      "4000\n",
      "5000\n",
      "6000\n",
      "7000\n",
      "8000\n",
      "9000\n",
      "10000\n",
      "11000\n",
      "12000\n",
      "13000\n",
      "14000\n",
      "15000\n",
      "16000\n",
      "17000\n",
      "18000\n",
      "19000\n",
      "20000\n",
      "21000\n",
      "22000\n"
     ]
    }
   ],
   "source": [
    "## create directories and save data\n",
    "# dest_dir = '/media/mint/New Volume/3_semester_IIIT_D/CF/project/small_data_attri5/val/'\n",
    "dest_dir = '/media/mint/New Volume/3_semester_IIIT_D/CF/project/30_11_new/small_data_attri5/val/'\n",
    "\n",
    "def create_folders(data):\n",
    "    \n",
    "    print \"Total Images : \"+str(data.shape[0])\n",
    "    global dest_dir\n",
    "    for i in data.index:\n",
    "        label = data.iloc[i]['label']\n",
    "        src = img_path+data.iloc[i]['path']\n",
    "        \n",
    "#         if not os.path.exists(dest_dir+label):\n",
    "#             os.makedirs(dest_dir+label)\n",
    "            \n",
    "        copyfile(src, dest_dir+label+'/'+data.iloc[i]['path'].split('/')[-2]+'_'+data.iloc[i]['path'].split('/')[-1])\n",
    "        if i%1000==0:\n",
    "            print i\n",
    "    \n",
    "create_folders(val)    "
   ]
  },
  {
   "cell_type": "code",
   "execution_count": 18,
   "metadata": {
    "collapsed": true,
    "deletable": true,
    "editable": true
   },
   "outputs": [],
   "source": [
    "N_CLASSES = 10"
   ]
  }
 ],
 "metadata": {
  "kernelspec": {
   "display_name": "Python 2",
   "language": "python",
   "name": "python2"
  },
  "language_info": {
   "codemirror_mode": {
    "name": "ipython",
    "version": 2
   },
   "file_extension": ".py",
   "mimetype": "text/x-python",
   "name": "python",
   "nbconvert_exporter": "python",
   "pygments_lexer": "ipython2",
   "version": "2.7.15"
  }
 },
 "nbformat": 4,
 "nbformat_minor": 2
}
