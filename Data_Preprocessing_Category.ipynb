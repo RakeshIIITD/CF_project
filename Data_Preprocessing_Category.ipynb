{
 "cells": [
  {
   "cell_type": "raw",
   "metadata": {
    "deletable": true,
    "editable": true
   },
   "source": [
    "(1) Using only Category(50 [1,2,3]) and Attributes(1000 - [1,2,3,4,5])"
   ]
  },
  {
   "cell_type": "code",
   "execution_count": 1,
   "metadata": {
    "collapsed": true,
    "deletable": true,
    "editable": true
   },
   "outputs": [],
   "source": [
    "import pandas as pd\n",
    "from matplotlib import pyplot as plt\n",
    "import glob\n",
    "from collections import Counter,defaultdict\n",
    "import matplotlib.image as mpimg\n",
    "from IPython.display import clear_output\n",
    "import time\n",
    "from  sklearn.model_selection import train_test_split\n",
    "import sys,os\n",
    "from shutil import copyfile\n",
    "#os.environ['CUDA_VISIBLE_DEVICES'] = ''"
   ]
  },
  {
   "cell_type": "code",
   "execution_count": 2,
   "metadata": {
    "collapsed": true,
    "deletable": true,
    "editable": true
   },
   "outputs": [],
   "source": [
    "## PARAMETERS\n",
    "\n",
    "TEST_SIZE = 0.99\n",
    "IMAGE_DIM = 224"
   ]
  },
  {
   "cell_type": "code",
   "execution_count": 3,
   "metadata": {
    "collapsed": true,
    "deletable": true,
    "editable": true
   },
   "outputs": [],
   "source": [
    "category_img_path = '/home/rakesh/Desktop/CF Dataset/Category and Attribute Prediction/Anno/list_category_img.txt'\n",
    "category_cloth_path = '/home/rakesh/Desktop/CF Dataset/Category and Attribute Prediction/Anno/list_category_cloth.txt'\n",
    "img_path = '/home/rakesh/Desktop/CF Dataset/Category and Attribute Prediction/'"
   ]
  },
  {
   "cell_type": "code",
   "execution_count": 4,
   "metadata": {
    "collapsed": true,
    "deletable": true,
    "editable": true
   },
   "outputs": [],
   "source": [
    "category_img = pd.read_csv(category_img_path,delim_whitespace=True)\n",
    "category_cloth = pd.read_csv(category_cloth_path,delim_whitespace=True)"
   ]
  },
  {
   "cell_type": "markdown",
   "metadata": {
    "deletable": true,
    "editable": true
   },
   "source": [
    "## CATEGORY"
   ]
  },
  {
   "cell_type": "code",
   "execution_count": 5,
   "metadata": {
    "collapsed": false,
    "deletable": true,
    "editable": true
   },
   "outputs": [
    {
     "data": {
      "text/html": [
       "<div>\n",
       "<style scoped>\n",
       "    .dataframe tbody tr th:only-of-type {\n",
       "        vertical-align: middle;\n",
       "    }\n",
       "\n",
       "    .dataframe tbody tr th {\n",
       "        vertical-align: top;\n",
       "    }\n",
       "\n",
       "    .dataframe thead th {\n",
       "        text-align: right;\n",
       "    }\n",
       "</style>\n",
       "<table border=\"1\" class=\"dataframe\">\n",
       "  <thead>\n",
       "    <tr style=\"text-align: right;\">\n",
       "      <th></th>\n",
       "      <th>category_name</th>\n",
       "      <th>category_type</th>\n",
       "    </tr>\n",
       "  </thead>\n",
       "  <tbody>\n",
       "    <tr>\n",
       "      <th>0</th>\n",
       "      <td>Anorak</td>\n",
       "      <td>1</td>\n",
       "    </tr>\n",
       "    <tr>\n",
       "      <th>1</th>\n",
       "      <td>Blazer</td>\n",
       "      <td>1</td>\n",
       "    </tr>\n",
       "    <tr>\n",
       "      <th>2</th>\n",
       "      <td>Blouse</td>\n",
       "      <td>1</td>\n",
       "    </tr>\n",
       "    <tr>\n",
       "      <th>3</th>\n",
       "      <td>Bomber</td>\n",
       "      <td>1</td>\n",
       "    </tr>\n",
       "    <tr>\n",
       "      <th>4</th>\n",
       "      <td>Button-Down</td>\n",
       "      <td>1</td>\n",
       "    </tr>\n",
       "  </tbody>\n",
       "</table>\n",
       "</div>"
      ],
      "text/plain": [
       "  category_name  category_type\n",
       "0        Anorak              1\n",
       "1        Blazer              1\n",
       "2        Blouse              1\n",
       "3        Bomber              1\n",
       "4   Button-Down              1"
      ]
     },
     "execution_count": 5,
     "metadata": {},
     "output_type": "execute_result"
    }
   ],
   "source": [
    "category_cloth.head()"
   ]
  },
  {
   "cell_type": "code",
   "execution_count": 6,
   "metadata": {
    "collapsed": false,
    "deletable": true,
    "editable": true
   },
   "outputs": [
    {
     "name": "stdout",
     "output_type": "stream",
     "text": [
      "Root Class distrubution : \n",
      "Counter({1: 139709, 3: 90550, 2: 58963})\n",
      "\n",
      " 50 class distribution : \n",
      "Counter({41: 72158, 18: 36887, 3: 24557, 32: 19666, 17: 15429, 33: 14773, 6: 13311, 16: 13123, 11: 10467, 19: 10078, 2: 7495, 48: 7408, 26: 7076, 42: 6153, 30: 5013, 29: 4416, 10: 4048, 34: 3048, 44: 2294, 39: 2120, 24: 1669, 35: 1106, 15: 791, 12: 748, 9: 716, 13: 676, 27: 594, 22: 527, 23: 486, 36: 386, 5: 330, 7: 324, 4: 309, 1: 160, 47: 150, 20: 146, 43: 126, 14: 97, 21: 77, 46: 70, 37: 54, 25: 49, 28: 45, 31: 32, 8: 17, 40: 17})\n"
     ]
    },
    {
     "data": {
      "text/html": [
       "<div>\n",
       "<style scoped>\n",
       "    .dataframe tbody tr th:only-of-type {\n",
       "        vertical-align: middle;\n",
       "    }\n",
       "\n",
       "    .dataframe tbody tr th {\n",
       "        vertical-align: top;\n",
       "    }\n",
       "\n",
       "    .dataframe thead th {\n",
       "        text-align: right;\n",
       "    }\n",
       "</style>\n",
       "<table border=\"1\" class=\"dataframe\">\n",
       "  <thead>\n",
       "    <tr style=\"text-align: right;\">\n",
       "      <th></th>\n",
       "      <th>image_name</th>\n",
       "      <th>category_label</th>\n",
       "    </tr>\n",
       "  </thead>\n",
       "  <tbody>\n",
       "    <tr>\n",
       "      <th>0</th>\n",
       "      <td>img/Sheer_Pleated-Front_Blouse/img_00000001.jpg</td>\n",
       "      <td>3</td>\n",
       "    </tr>\n",
       "    <tr>\n",
       "      <th>1</th>\n",
       "      <td>img/Sheer_Pleated-Front_Blouse/img_00000002.jpg</td>\n",
       "      <td>3</td>\n",
       "    </tr>\n",
       "    <tr>\n",
       "      <th>2</th>\n",
       "      <td>img/Sheer_Pleated-Front_Blouse/img_00000003.jpg</td>\n",
       "      <td>3</td>\n",
       "    </tr>\n",
       "    <tr>\n",
       "      <th>3</th>\n",
       "      <td>img/Sheer_Pleated-Front_Blouse/img_00000004.jpg</td>\n",
       "      <td>3</td>\n",
       "    </tr>\n",
       "    <tr>\n",
       "      <th>4</th>\n",
       "      <td>img/Sheer_Pleated-Front_Blouse/img_00000005.jpg</td>\n",
       "      <td>3</td>\n",
       "    </tr>\n",
       "  </tbody>\n",
       "</table>\n",
       "</div>"
      ],
      "text/plain": [
       "                                        image_name  category_label\n",
       "0  img/Sheer_Pleated-Front_Blouse/img_00000001.jpg               3\n",
       "1  img/Sheer_Pleated-Front_Blouse/img_00000002.jpg               3\n",
       "2  img/Sheer_Pleated-Front_Blouse/img_00000003.jpg               3\n",
       "3  img/Sheer_Pleated-Front_Blouse/img_00000004.jpg               3\n",
       "4  img/Sheer_Pleated-Front_Blouse/img_00000005.jpg               3"
      ]
     },
     "execution_count": 6,
     "metadata": {},
     "output_type": "execute_result"
    }
   ],
   "source": [
    "## root class distribution\n",
    "\n",
    "## convert 50 class to their names\n",
    "order_map = {}\n",
    "for i in category_cloth.index:\n",
    "    order_map[i+1] = category_cloth.iloc[i]['category_name']\n",
    "\n",
    "    \n",
    "#   distribution\n",
    "category_cloth_map = defaultdict()\n",
    "    \n",
    "for i in category_cloth.index:\n",
    "    category_cloth_map[i+1] = category_cloth.loc[i]['category_type']\n",
    "    \n",
    "class50_map = {}\n",
    "l = []\n",
    "for i in category_img['category_label']:\n",
    "    l.append(category_cloth_map[i])\n",
    "    \n",
    "print \"Root Class distrubution : \"\n",
    "print Counter(l)\n",
    "\n",
    "print \"\\n 50 class distribution : \"\n",
    "dist = Counter(category_img['category_label'])\n",
    "print dist\n",
    "\n",
    "##  remove order map to convert to numerical classes\n",
    "## filter minority classes\n",
    "category_img.head()"
   ]
  },
  {
   "cell_type": "code",
   "execution_count": 7,
   "metadata": {
    "collapsed": true,
    "deletable": true,
    "editable": true
   },
   "outputs": [],
   "source": [
    "## --------------  VISUALIZATION -------------------\n",
    "\n",
    "for i in class50_map.keys():\n",
    "    clear_output( wait = True )\n",
    "    \n",
    "    img = mpimg.imread(img_path+i)\n",
    "    plt.imshow(img)\n",
    "    plt.show()\n",
    "    print \"Class : \"+str(class50_map[i])\n",
    "    time.sleep(1)"
   ]
  },
  {
   "cell_type": "markdown",
   "metadata": {
    "deletable": true,
    "editable": true
   },
   "source": [
    "## DATASET PREPARATION : FILTERING MINORITY CLASSES"
   ]
  },
  {
   "cell_type": "code",
   "execution_count": 8,
   "metadata": {
    "collapsed": true,
    "deletable": true,
    "editable": true
   },
   "outputs": [],
   "source": [
    "## ===========      CREATE A DATAFRAME OF IMAGE PATH AND ITS LABELS   =====================\n",
    "image_path = []\n",
    "image_label = []\n",
    "for i in category_img.index:\n",
    "    if dist[category_img.iloc[i]['category_label']]>=10070:\n",
    "        image_path.append(category_img.iloc[i]['image_name'])\n",
    "        image_label.append(order_map[category_img.iloc[i]['category_label']])\n",
    "        class50_map[ category_img.iloc[i]['image_name']] = order_map[category_img.iloc[i]['category_label']]  "
   ]
  },
  {
   "cell_type": "code",
   "execution_count": 9,
   "metadata": {
    "collapsed": true,
    "deletable": true,
    "editable": true
   },
   "outputs": [],
   "source": [
    "df1 = pd.DataFrame({'path':image_path,'label':image_label})\n",
    "#df1.to_csv('dataset.csv')"
   ]
  },
  {
   "cell_type": "code",
   "execution_count": 10,
   "metadata": {
    "collapsed": false,
    "deletable": true,
    "editable": true
   },
   "outputs": [
    {
     "name": "stdout",
     "output_type": "stream",
     "text": [
      "DATASET CLASS DISTRIBUTION\n",
      "\n",
      "n_classes : 10\n",
      "Counter({'Dress': 72158, 'Tee': 36887, 'Blouse': 24557, 'Shorts': 19666, 'Tank': 15429, 'Skirt': 14773, 'Cardigan': 13311, 'Sweater': 13123, 'Jacket': 10467, 'Top': 10078})\n"
     ]
    }
   ],
   "source": [
    "print \"DATASET CLASS DISTRIBUTION\\n\"\n",
    "print \"n_classes : \"+str(len(Counter(df1['label'])))\n",
    "print Counter(df1['label'])"
   ]
  },
  {
   "cell_type": "code",
   "execution_count": 11,
   "metadata": {
    "collapsed": false,
    "deletable": true,
    "editable": true
   },
   "outputs": [
    {
     "data": {
      "text/plain": [
       "Counter({'Blouse': 6800,\n",
       "         'Cardigan': 6800,\n",
       "         'Dress': 6800,\n",
       "         'Jacket': 6800,\n",
       "         'Shorts': 6800,\n",
       "         'Skirt': 6800,\n",
       "         'Sweater': 6800,\n",
       "         'Tank': 6800,\n",
       "         'Tee': 6800,\n",
       "         'Top': 6800})"
      ]
     },
     "execution_count": 11,
     "metadata": {},
     "output_type": "execute_result"
    }
   ],
   "source": [
    "## balance classes\n",
    "UPPER_LIMIT = 6800\n",
    "\n",
    "count_dict = defaultdict(lambda : 0)\n",
    "\n",
    "labels =[]\n",
    "paths =[]\n",
    "\n",
    "for i,l in enumerate(image_label):\n",
    "    if count_dict[l]<UPPER_LIMIT:\n",
    "        labels.append(image_label[i])\n",
    "        paths.append(image_path[i])\n",
    "    count_dict[l]+=1\n",
    "    \n",
    "df = pd.DataFrame({'path':paths,'label':labels})\n",
    "Counter(df['label'])"
   ]
  },
  {
   "cell_type": "code",
   "execution_count": 12,
   "metadata": {
    "collapsed": false,
    "deletable": true,
    "editable": true
   },
   "outputs": [
    {
     "name": "stdout",
     "output_type": "stream",
     "text": [
      "TEST and VALIDATION data size  \n",
      "(67320, 2)\n"
     ]
    }
   ],
   "source": [
    "## PREPARE   TRAIN , TEST , VALIDATION :STRATIFIED\n",
    "\n",
    "X_train, X_test, y_train, y_test = train_test_split(df['path'], df['label'],stratify=df['label'], test_size=TEST_SIZE)\n",
    "\n",
    "train = pd.DataFrame({'path':X_train,'label':y_train})\n",
    "test_data = pd.DataFrame({'path':X_test,'label':y_test})\n",
    "\n",
    "# clear variables\n",
    "\n",
    "del X_train, X_test, y_train, y_test\n",
    "\n",
    "print \"TEST and VALIDATION data size  \"\n",
    "print test_data.shape\n",
    "\n",
    "X_val, X_test, y_val, y_test = train_test_split(test_data['path'], test_data['label'],stratify=test_data['label'], test_size=0.25)\n",
    "\n",
    "val = pd.DataFrame({'path':X_val,'label':y_val})\n",
    "test = pd.DataFrame({'path':X_test,'label':y_test})\n",
    "\n",
    "# clear variables\n",
    "\n",
    "del X_val, X_test, y_val, y_test,df\n",
    "\n",
    "Counter(test['label'])\n",
    "\n",
    "\n",
    "#  ====== DROP INDEXES ============\n",
    "\n",
    "\n",
    "val = val.reset_index(drop=True)\n",
    "test = test.reset_index(drop=True)"
   ]
  },
  {
   "cell_type": "code",
   "execution_count": 13,
   "metadata": {
    "collapsed": false,
    "deletable": true,
    "editable": true
   },
   "outputs": [
    {
     "name": "stdout",
     "output_type": "stream",
     "text": [
      "16830\n"
     ]
    },
    {
     "data": {
      "text/plain": [
       "Counter({'Blouse': 5049,\n",
       "         'Cardigan': 5049,\n",
       "         'Dress': 5049,\n",
       "         'Jacket': 5049,\n",
       "         'Shorts': 5049,\n",
       "         'Skirt': 5049,\n",
       "         'Sweater': 5049,\n",
       "         'Tank': 5049,\n",
       "         'Tee': 5049,\n",
       "         'Top': 5049})"
      ]
     },
     "execution_count": 13,
     "metadata": {},
     "output_type": "execute_result"
    }
   ],
   "source": [
    "print sum(Counter(test['label']).values())\n",
    "Counter(val['label'])"
   ]
  },
  {
   "cell_type": "code",
   "execution_count": 15,
   "metadata": {
    "collapsed": false,
    "deletable": true,
    "editable": true
   },
   "outputs": [
    {
     "name": "stdout",
     "output_type": "stream",
     "text": [
      "Total Images : 16830\n",
      "0\n",
      "1000\n",
      "2000\n",
      "3000\n",
      "4000\n",
      "5000\n",
      "6000\n",
      "7000\n",
      "8000\n",
      "9000\n",
      "10000\n",
      "11000\n",
      "12000\n",
      "13000\n",
      "14000\n",
      "15000\n",
      "16000\n"
     ]
    }
   ],
   "source": [
    "## create directories and save data\n",
    "dest_dir = '/home/rakesh/Desktop/CF Dataset/mod/test/'\n",
    "def create_folders(data):\n",
    "    \n",
    "    print \"Total Images : \"+str(data.shape[0])\n",
    "    global dest_dir\n",
    "    for i in data.index:\n",
    "        label = data.iloc[i]['label']\n",
    "        src = img_path+data.iloc[i]['path']\n",
    "        \n",
    "        if not os.path.exists(dest_dir+label):\n",
    "            os.makedirs(dest_dir+label)\n",
    "        k = data.iloc[i]['path'].split('/')  \n",
    "        k = k[-2]+'_'+k[-1]\n",
    "        copyfile(src, dest_dir+label+'/'+k)\n",
    "        if i%1000==0:\n",
    "            print i\n",
    "    \n",
    "create_folders(test)    "
   ]
  },
  {
   "cell_type": "code",
   "execution_count": null,
   "metadata": {
    "collapsed": true,
    "deletable": true,
    "editable": true
   },
   "outputs": [],
   "source": [
    "val.shape"
   ]
  },
  {
   "cell_type": "code",
   "execution_count": null,
   "metadata": {
    "collapsed": true,
    "deletable": true,
    "editable": true
   },
   "outputs": [],
   "source": [
    "test.shape"
   ]
  },
  {
   "cell_type": "markdown",
   "metadata": {
    "deletable": true,
    "editable": true
   },
   "source": [
    "##  VGG PRETRAINED"
   ]
  },
  {
   "cell_type": "code",
   "execution_count": null,
   "metadata": {
    "collapsed": true,
    "deletable": true,
    "editable": true
   },
   "outputs": [],
   "source": [
    "import glob\n",
    "import matplotlib.image as mpimg\n",
    "from matplotlib import pyplot as plt\n",
    "from IPython.display import clear_output\n",
    "import time\n",
    "from keras.applications.vgg16 import VGG16\n",
    "from keras.applications.resnet50 import ResNet50\n",
    "from keras.applications.densenet import DenseNet121\n",
    "import sys\n",
    "from PIL import Image\n",
    "import os\n",
    "from keras.preprocessing.image import load_img\n",
    "import numpy as np\n",
    "from keras.preprocessing.image import img_to_array\n",
    "import pydot\n",
    "from keras_preprocessing.image import ImageDataGenerator\n",
    "from keras import layers,models\n",
    "from keras.models import Sequential\n",
    "from keras.layers import Conv2D, MaxPooling2D\n",
    "from keras.layers import Activation, Dropout, Flatten, Dense,GlobalAveragePooling2D\n",
    "from keras.models import Model\n",
    "from keras import optimizers\n",
    "#from classification_models import ResNet18"
   ]
  },
  {
   "cell_type": "code",
   "execution_count": null,
   "metadata": {
    "collapsed": true,
    "deletable": true,
    "editable": true
   },
   "outputs": [],
   "source": [
    "IMAGE_BATCH = 128\n",
    "N_CLASSES = 20"
   ]
  },
  {
   "cell_type": "code",
   "execution_count": null,
   "metadata": {
    "collapsed": true,
    "deletable": true,
    "editable": true
   },
   "outputs": [],
   "source": [
    "model_vgg = VGG16(weights='imagenet',include_top=False, input_shape=(IMAGE_DIM, IMAGE_DIM, 3))"
   ]
  },
  {
   "cell_type": "code",
   "execution_count": null,
   "metadata": {
    "collapsed": true,
    "deletable": true,
    "editable": true
   },
   "outputs": [],
   "source": [
    "model_vgg.summary()"
   ]
  },
  {
   "cell_type": "code",
   "execution_count": null,
   "metadata": {
    "collapsed": true,
    "deletable": true,
    "editable": true
   },
   "outputs": [],
   "source": [
    "def get_model_memory_usage(batch_size, model):\n",
    "    import numpy as np\n",
    "    from keras import backend as K\n",
    "\n",
    "    shapes_mem_count = 0\n",
    "    for l in model.layers:\n",
    "        single_layer_mem = 1\n",
    "        for s in l.output_shape:\n",
    "            if s is None:\n",
    "                continue\n",
    "            single_layer_mem *= s\n",
    "        shapes_mem_count += single_layer_mem\n",
    "\n",
    "    trainable_count = np.sum([K.count_params(p) for p in set(model.trainable_weights)])\n",
    "    non_trainable_count = np.sum([K.count_params(p) for p in set(model.non_trainable_weights)])\n",
    "\n",
    "    total_memory = 4.0*batch_size*(shapes_mem_count + trainable_count + non_trainable_count)\n",
    "    gbytes = np.round(total_memory / (1024.0 ** 3), 3)\n",
    "    return gbytes"
   ]
  },
  {
   "cell_type": "markdown",
   "metadata": {
    "deletable": true,
    "editable": true
   },
   "source": [
    "## Transfer Learning"
   ]
  },
  {
   "cell_type": "markdown",
   "metadata": {
    "deletable": true,
    "editable": true
   },
   "source": [
    "## --> DATA GENERATORS"
   ]
  },
  {
   "cell_type": "code",
   "execution_count": null,
   "metadata": {
    "collapsed": true,
    "deletable": true,
    "editable": true
   },
   "outputs": [],
   "source": [
    "datagen = ImageDataGenerator(rescale=1./255)\n",
    "datagen_test = ImageDataGenerator(rescale=1./255)\n",
    "datagen_val = ImageDataGenerator(rescale=1./255)\n",
    "\n",
    "\n",
    "##  for training \n",
    "generator = datagen.flow_from_directory(\n",
    "                                        directory ='/home/rakesh/Desktop/CF Dataset/mod/val' ,\n",
    "                                        interpolation = \"nearest\",\n",
    "                                        target_size=(IMAGE_DIM, IMAGE_DIM),\n",
    "                                        batch_size = IMAGE_BATCH,\n",
    "                                        #save_to_dir = 'val_augmented/'\n",
    "                                       )\n",
    "\n",
    "##   for validation\n",
    "\n",
    "val_generator = datagen_test.flow_from_directory(\n",
    "                                        directory ='/home/rakesh/Desktop/CF Dataset/mod/test' ,\n",
    "                                        interpolation = \"nearest\",\n",
    "                                        target_size=(IMAGE_DIM, IMAGE_DIM),\n",
    "                                        batch_size = IMAGE_BATCH\n",
    "                                        #save_to_dir = 'val_augmented/'\n",
    "                                       )\n",
    "\n",
    "\n",
    "#train_X = np.zeros(shape=(val.shape[0], 7, 7, 512))\n",
    "#train_y = np.zeros(shape=(val.shape[0],20))"
   ]
  },
  {
   "cell_type": "code",
   "execution_count": null,
   "metadata": {
    "collapsed": true,
    "deletable": true,
    "editable": true
   },
   "outputs": [],
   "source": [
    "  for i,layer in enumerate(model_vgg.layers):\n",
    "    print(i,layer.name,layer.trainable)"
   ]
  },
  {
   "cell_type": "code",
   "execution_count": null,
   "metadata": {
    "collapsed": true,
    "deletable": true,
    "editable": true
   },
   "outputs": [],
   "source": [
    "x = model_vgg.output\n",
    "x = GlobalAveragePooling2D()(x)\n",
    "\n",
    "x = Dense(128, activation='relu')(x)\n",
    "#x = Dense(1128, activation='relu')(x)\n",
    "#x = Dense(512, activation='relu')(x)\n",
    "predictions = Dense(20, activation='softmax')(x)\n",
    "model = Model(inputs=model_vgg.input, outputs=predictions)\n",
    "\n",
    "model.summary()"
   ]
  },
  {
   "cell_type": "code",
   "execution_count": null,
   "metadata": {
    "collapsed": true,
    "deletable": true,
    "editable": true
   },
   "outputs": [],
   "source": [
    "##  freeze layers of vgg\n",
    "for layer in model_vgg.layers:\n",
    "    layer.trainable = False"
   ]
  },
  {
   "cell_type": "code",
   "execution_count": null,
   "metadata": {
    "collapsed": true,
    "deletable": true,
    "editable": true
   },
   "outputs": [],
   "source": [
    "model.compile(loss='categorical_crossentropy', \n",
    "                  optimizer=optimizers.SGD(lr=0.001, momentum=0.9), \n",
    "                  metrics=['accuracy'])"
   ]
  },
  {
   "cell_type": "code",
   "execution_count": null,
   "metadata": {
    "collapsed": true,
    "deletable": true,
    "editable": true
   },
   "outputs": [],
   "source": [
    "for i,layer in enumerate(model.layers):\n",
    "    print(i,layer.name,layer.trainable)\n",
    "print \"Memory : \" + str(get_model_memory_usage(IMAGE_BATCH,model))+\" GB\\n\""
   ]
  },
  {
   "cell_type": "code",
   "execution_count": null,
   "metadata": {
    "collapsed": true,
    "deletable": true,
    "editable": true
   },
   "outputs": [],
   "source": [
    "## Train on FC layers\n",
    "num_training_samples = val.shape[0]\n",
    "# history = model.fit_generator(\n",
    "#             generator,\n",
    "#             steps_per_epoch=(num_training_samples //IMAGE_BATCH ),\n",
    "#     verbose=1,\n",
    "#             epochs=5)\n",
    "\n",
    "history = model.fit_generator(\n",
    "          generator,\n",
    "          verbose=1,\n",
    "          steps_per_epoch= (num_training_samples //IMAGE_BATCH),\n",
    "          epochs=10,\n",
    "          validation_data=val_generator,\n",
    "        validation_steps=(num_training_samples //IMAGE_BATCH))"
   ]
  },
  {
   "cell_type": "code",
   "execution_count": null,
   "metadata": {
    "collapsed": true,
    "deletable": true,
    "editable": true
   },
   "outputs": [],
   "source": [
    "# ## \n",
    "# for layer in model.layers[:18]:\n",
    "#     layer.trainable = False"
   ]
  },
  {
   "cell_type": "code",
   "execution_count": null,
   "metadata": {
    "collapsed": true,
    "deletable": true,
    "editable": true
   },
   "outputs": [],
   "source": [
    "import matplotlib.pyplot as plt\n",
    "def show_history(history):\n",
    "    plt.plot(history.history['acc'])\n",
    "    plt.plot(history.history['val_acc'])\n",
    "    plt.ylabel('accuracy')\n",
    "    plt.xlabel('epoch')\n",
    "    plt.legend(['train_accuracy', 'val_accuracy'], loc='best')\n",
    "    plt.show()\n",
    "\n",
    "show_history(history)"
   ]
  },
  {
   "cell_type": "markdown",
   "metadata": {
    "deletable": true,
    "editable": true
   },
   "source": [
    "## ==========================   TRY  ==============================="
   ]
  },
  {
   "cell_type": "code",
   "execution_count": null,
   "metadata": {
    "collapsed": true,
    "deletable": true,
    "editable": true
   },
   "outputs": [],
   "source": [
    "##    FC LAYERS\n",
    "\n",
    "# model = models.Sequential()\n",
    "# model.add(layers.Dense(256, activation='relu', input_dim=7 * 7 * 512))\n",
    "# model.add(layers.Dropout(0.5))\n",
    "# model.add(layers.Dense(N_CLASSES, activation='softmax'))"
   ]
  },
  {
   "cell_type": "code",
   "execution_count": null,
   "metadata": {
    "collapsed": true,
    "deletable": true,
    "editable": true
   },
   "outputs": [],
   "source": [
    "# i = 0\n",
    "# for inputs_batch, labels_batch in generator:\n",
    "#     features_batch = model_vgg.predict(inputs_batch)\n",
    "#     train_X[i * IMAGE_BATCH : (i + 1) * IMAGE_BATCH] = features_batch\n",
    "#     train_y[i * IMAGE_BATCH : (i + 1) * IMAGE_BATCH] = labels_batch\n",
    "#     i += 1\n",
    "#     if i * batch_size >= test.shape[0]:\n",
    "#         break\n",
    "        "
   ]
  },
  {
   "cell_type": "code",
   "execution_count": null,
   "metadata": {
    "collapsed": true,
    "deletable": true,
    "editable": true
   },
   "outputs": [],
   "source": [
    "## Small COnvnet\n",
    "\n",
    "##features_train = model_vgg.predict_generator(generator)\n",
    "\n",
    "\n",
    "# model = Sequential()\n",
    "# model.add(Conv2D(32, (3, 3), input_shape=(3, IMAGE_DIM, IMAGE_DIM)))\n",
    "# model.add(Activation('relu'))\n",
    "# model.add(MaxPooling2D(pool_size=(2, 2)))\n",
    "\n",
    "# model.add(Conv2D(32, (3, 3)))\n",
    "# model.add(Activation('relu'))\n",
    "# model.add(MaxPooling2D(pool_size=(2, 2)))\n",
    "\n",
    "# model.add(Conv2D(64, (3, 3)))\n",
    "# model.add(Activation('relu'))\n",
    "# model.add(MaxPooling2D(pool_size=(2, 2)))\n",
    "# model.add(Flatten())  # this converts our 3D feature maps to 1D feature vectors\n",
    "# model.add(Dense(64))\n",
    "# model.add(Activation('relu'))\n",
    "# model.add(Dropout(0.5))\n",
    "# model.add(Dense(1))\n",
    "# model.add(Activation('softmax'))\n",
    "\n",
    "# model.compile(loss='crossentropy',\n",
    "#               optimizer='rmsprop',\n",
    "#               metrics=['accuracy'])"
   ]
  },
  {
   "cell_type": "code",
   "execution_count": null,
   "metadata": {
    "collapsed": true,
    "deletable": true,
    "editable": true
   },
   "outputs": [],
   "source": []
  }
 ],
 "metadata": {
  "kernelspec": {
   "display_name": "Python 2",
   "language": "python",
   "name": "python2"
  },
  "language_info": {
   "codemirror_mode": {
    "name": "ipython",
    "version": 2
   },
   "file_extension": ".py",
   "mimetype": "text/x-python",
   "name": "python",
   "nbconvert_exporter": "python",
   "pygments_lexer": "ipython2",
   "version": "2.7.15"
  }
 },
 "nbformat": 4,
 "nbformat_minor": 2
}
