{
 "cells": [
  {
   "cell_type": "raw",
   "metadata": {
    "deletable": true,
    "editable": true
   },
   "source": [
    "(1) Using only Category(50 [1,2,3]) and Attributes(1000 - [1,2,3,4,5])"
   ]
  },
  {
   "cell_type": "code",
   "execution_count": 1,
   "metadata": {
    "collapsed": true,
    "deletable": true,
    "editable": true
   },
   "outputs": [],
   "source": [
    "import pandas as pd\n",
    "from matplotlib import pyplot as plt\n",
    "import glob\n",
    "from collections import Counter,defaultdict\n",
    "import matplotlib.image as mpimg\n",
    "from IPython.display import clear_output\n",
    "import time\n",
    "import warnings\n",
    "warnings.filterwarnings('ignore')\n",
    "from  sklearn.model_selection import train_test_split\n",
    "import sys,os\n",
    "from shutil import copyfile\n",
    "import numpy as np\n"
   ]
  },
  {
   "cell_type": "code",
   "execution_count": 2,
   "metadata": {
    "collapsed": true,
    "deletable": true,
    "editable": true
   },
   "outputs": [],
   "source": [
    "attribute_img_path = '/media/mint/New Volume/3_semester_IIIT_D/CF/project/Category and Attribute/Anno/list_attr_img.txt'\n",
    "attribute_cloth_path = '/media/mint/New Volume/3_semester_IIIT_D/CF/project/Category and Attribute/Anno/list_attr_cloth.txt'\n",
    "img_path = '/media/mint/New Volume/3_semester_IIIT_D/CF/project/Category and Attribute/img/'"
   ]
  },
  {
   "cell_type": "code",
   "execution_count": 3,
   "metadata": {
    "collapsed": false,
    "deletable": true,
    "editable": true
   },
   "outputs": [],
   "source": [
    "# attribute_img = pd.read_csv(attribute_img_path,delim_whitespace=True)\n",
    "attribute_cloth = pd.read_csv(attribute_cloth_path, sep=\"\\s\\s+\") # columns = ['attribute_name', 'attribute_type'])"
   ]
  },
  {
   "cell_type": "markdown",
   "metadata": {
    "deletable": true,
    "editable": true
   },
   "source": [
    "# reading attribute_img_path chunksize wise"
   ]
  },
  {
   "cell_type": "code",
   "execution_count": 4,
   "metadata": {
    "collapsed": false,
    "deletable": true,
    "editable": true
   },
   "outputs": [
    {
     "name": "stdout",
     "output_type": "stream",
     "text": [
      "Counter({837: 17826, 838: 7987, 569: 6656, 957: 5493, 182: 5452, 721: 5192, 113: 5056, 936: 4995, 293: 4578, 879: 4358, 471: 3955, 62: 3579, 458: 3412, 994: 3265, 752: 2903, 826: 2721, 208: 2679, 898: 2377, 414: 2280, 192: 2231, 755: 2162, 801: 2136, 842: 2073, 277: 2017, 999: 2006, 288: 1991, 816: 1988, 209: 1796, 700: 1740, 863: 1692, 88: 1669, 185: 1497, 881: 1421, 232: 1394, 649: 1342, 532: 1287, 878: 1154, 37: 1133, 667: 1078, 910: 984, 48: 965, 59: 956, 570: 906, 202: 847, 415: 822, 469: 814, 361: 729, 184: 725, 668: 721, 280: 721, 397: 703, 490: 697, 203: 689, 937: 670, 800: 664, 115: 647, 390: 631, 1000: 622, 278: 619, 308: 610, 477: 599, 828: 559, 629: 550, 211: 527, 541: 510, 398: 503, 362: 483, 470: 471, 81: 453, 252: 430, 630: 419, 235: 409, 101: 408, 704: 406, 193: 385, 297: 379, 951: 370, 511: 361, 799: 356, 236: 324, 468: 324, 224: 319, 309: 319, 466: 317, 114: 314, 129: 312, 742: 306, 536: 303, 810: 288, 740: 278, 392: 277, 955: 273, 756: 268, 661: 265, 829: 265, 488: 261, 422: 247, 535: 242, 300: 236, 571: 234, 788: 228, 244: 227, 286: 222, 995: 200, 997: 200, 501: 200, 952: 195, 534: 194, 27: 194, 396: 194, 666: 187, 947: 178, 919: 177, 802: 175, 23: 166, 281: 166, 463: 166, 887: 158, 35: 157, 33: 152, 67: 150, 231: 148, 911: 147, 363: 145, 195: 145, 664: 143, 741: 143, 399: 143, 923: 143, 473: 139, 656: 136, 387: 135, 472: 134, 524: 131, 920: 129, 744: 126, 943: 126, 510: 122, 531: 119, 965: 119, 865: 116, 186: 115, 665: 113, 279: 113, 152: 112, 299: 110, 217: 107, 732: 106, 905: 103, 584: 102, 830: 101, 384: 98, 157: 97, 998: 95, 647: 94, 64: 93, 956: 93, 60: 91, 165: 91, 173: 91, 66: 88, 166: 87, 648: 86, 98: 85, 899: 85, 503: 85, 504: 85, 188: 84, 212: 84, 986: 84, 489: 80, 170: 79, 287: 79, 558: 78, 298: 76, 964: 76, 34: 75, 669: 75, 996: 75, 36: 74, 608: 74, 234: 74, 606: 73, 864: 73, 63: 72, 505: 72, 631: 71, 457: 71, 585: 70, 646: 70, 290: 70, 230: 68, 880: 68, 183: 67, 289: 67, 538: 66, 53: 65, 68: 64, 552: 62, 555: 62, 90: 62, 917: 62, 950: 61, 291: 60, 89: 59, 358: 59, 65: 58, 32: 55, 194: 55, 478: 55, 383: 54, 467: 53, 444: 52, 346: 52, 253: 51, 926: 51})\n"
     ]
    }
   ],
   "source": [
    "chunksize = 10 ** 4\n",
    "attribute_type = 4\n",
    "\n",
    "# print chunksize\n",
    "# attribute_img = 0\n",
    "dd = []\n",
    "for chunk in pd.read_csv(attribute_img_path, sep=\"\\s\\s\\s+\", chunksize=chunksize):\n",
    "    attribute_img = chunk\n",
    "    \n",
    "    for i in attribute_img['attribute_labels']:\n",
    "        if type(i) == str:\n",
    "\n",
    "            ll = i.split()\n",
    "            ll = np.array(ll)\n",
    "            pos = np.where(ll == '1')[0]\n",
    "            for j in pos:\n",
    "                if attribute_cloth.iloc[j]['attribute_type'] == attribute_type: \n",
    "                    dd.append(j+1)\n",
    "dist = Counter(dd)\n",
    "# print dist\n",
    "print dist"
   ]
  },
  {
   "cell_type": "code",
   "execution_count": 5,
   "metadata": {
    "collapsed": false,
    "deletable": true,
    "editable": true
   },
   "outputs": [
    {
     "name": "stdout",
     "output_type": "stream",
     "text": [
      "289222\n"
     ]
    }
   ],
   "source": [
    "chunksize = 10 ** 4\n",
    "\n",
    "image_name = []\n",
    "for chunk in pd.read_csv(attribute_img_path, sep=\"\\s\\s\\s+\", chunksize=chunksize):\n",
    "    attribute_img = chunk\n",
    "    \n",
    "    for i in attribute_img['image_name']:\n",
    "        image_name.append(i)\n",
    "        \n",
    "print len(image_name)"
   ]
  },
  {
   "cell_type": "code",
   "execution_count": 6,
   "metadata": {
    "collapsed": false,
    "deletable": true,
    "editable": true
   },
   "outputs": [
    {
     "name": "stdout",
     "output_type": "stream",
     "text": [
      "img/Sheer_Pleated-Front_Blouse/img_00000001.jpg\n",
      "img/Sheer_Pleated-Front_Blouse/img_00000002.jpg\n"
     ]
    }
   ],
   "source": [
    "print image_name[0]\n",
    "print image_name[1]"
   ]
  },
  {
   "cell_type": "code",
   "execution_count": 7,
   "metadata": {
    "collapsed": false,
    "deletable": true,
    "editable": true
   },
   "outputs": [
    {
     "name": "stdout",
     "output_type": "stream",
     "text": [
      "\n",
      "done\n",
      "defaultdict(None, {524: 4, 531: 4, 532: 4, 534: 4, 23: 4, 536: 4, 538: 4, 27: 4, 541: 4, 32: 4, 33: 4, 34: 4, 35: 4, 36: 4, 37: 4, 552: 4, 555: 4, 558: 4, 48: 4, 53: 4, 569: 4, 570: 4, 59: 4, 60: 4, 62: 4, 63: 4, 64: 4, 65: 4, 66: 4, 67: 4, 68: 4, 584: 4, 585: 4, 81: 4, 88: 4, 89: 4, 90: 4, 606: 4, 608: 4, 98: 4, 101: 4, 700: 4, 113: 4, 114: 4, 115: 4, 629: 4, 630: 4, 631: 4, 129: 4, 646: 4, 647: 4, 648: 4, 649: 4, 535: 4, 656: 4, 661: 4, 152: 4, 665: 4, 666: 4, 667: 4, 668: 4, 157: 4, 165: 4, 166: 4, 881: 4, 170: 4, 173: 4, 943: 4, 182: 4, 183: 4, 184: 4, 185: 4, 186: 4, 799: 4, 188: 4, 192: 4, 193: 4, 194: 4, 195: 4, 801: 4, 202: 4, 203: 4, 802: 4, 208: 4, 209: 4, 211: 4, 212: 4, 956: 4, 217: 4, 732: 4, 224: 4, 740: 4, 741: 4, 230: 4, 231: 4, 232: 4, 234: 4, 235: 4, 236: 4, 752: 4, 755: 4, 244: 4, 252: 4, 253: 4, 721: 4, 810: 4, 704: 4, 899: 4, 788: 4, 277: 4, 278: 4, 279: 4, 280: 4, 281: 4, 286: 4, 287: 4, 288: 4, 289: 4, 290: 4, 291: 4, 293: 4, 297: 4, 298: 4, 299: 4, 300: 4, 816: 4, 308: 4, 309: 4, 826: 4, 828: 4, 829: 4, 830: 4, 837: 4, 838: 4, 842: 4, 1000: 4, 910: 4, 346: 4, 911: 4, 863: 4, 864: 4, 865: 4, 571: 4, 742: 4, 358: 4, 361: 4, 362: 4, 363: 4, 878: 4, 879: 4, 880: 4, 744: 4, 887: 4, 383: 4, 384: 4, 898: 4, 387: 4, 390: 4, 392: 4, 905: 4, 396: 4, 397: 4, 398: 4, 399: 4, 664: 4, 917: 4, 919: 4, 920: 4, 923: 4, 414: 4, 415: 4, 422: 4, 936: 4, 937: 4, 669: 4, 947: 4, 926: 4, 950: 4, 951: 4, 952: 4, 756: 4, 955: 4, 444: 4, 957: 4, 964: 4, 965: 4, 457: 4, 458: 4, 463: 4, 466: 4, 467: 4, 468: 4, 469: 4, 470: 4, 471: 4, 472: 4, 473: 4, 986: 4, 477: 4, 478: 4, 800: 4, 994: 4, 995: 4, 996: 4, 997: 4, 998: 4, 999: 4, 488: 4, 489: 4, 490: 4, 501: 4, 503: 4, 504: 4, 505: 4, 510: 4, 511: 4})\n"
     ]
    }
   ],
   "source": [
    "## root class distribution\n",
    "import numpy as np\n",
    "\n",
    "## convert 50 class to their names\n",
    "order_map = {}\n",
    "for i in attribute_cloth.index:\n",
    "    if attribute_cloth.iloc[i]['attribute_type'] == attribute_type: \n",
    "        order_map[i+1] = attribute_cloth.iloc[i]['attribute_name']\n",
    "\n",
    "    \n",
    "# print order_map\n",
    "print \n",
    "#   distribution\n",
    "attribute_cloth_map = defaultdict()\n",
    "    \n",
    "for i in attribute_cloth.index:\n",
    "    if attribute_cloth.iloc[i]['attribute_type'] == attribute_type: \n",
    "        attribute_cloth_map[i+1] = attribute_cloth.loc[i]['attribute_type']\n",
    "    \n",
    "print 'done'\n",
    "print attribute_cloth_map\n",
    "# right above it\n",
    "    \n",
    "class50_map = {}\n"
   ]
  },
  {
   "cell_type": "markdown",
   "metadata": {
    "deletable": true,
    "editable": true
   },
   "source": [
    "## DATASET PREPARATION : FILTERING MINORITY CLASSES"
   ]
  },
  {
   "cell_type": "code",
   "execution_count": 8,
   "metadata": {
    "collapsed": false,
    "deletable": true,
    "editable": true
   },
   "outputs": [
    {
     "name": "stdout",
     "output_type": "stream",
     "text": [
      "done\n",
      "289222\n"
     ]
    }
   ],
   "source": [
    "## ===========      CREATE A DATAFRAME OF IMAGE PATH AND ITS LABELS   =====================\n",
    "image_path = []\n",
    "image_label = []\n",
    "# print attribute_img.iloc[0]['attribute_labels']\n",
    "loc = 0\n",
    "for chunk in pd.read_csv(attribute_img_path, sep=\"\\s\\s\\s+\", chunksize=chunksize):\n",
    "    attribute_img = chunk\n",
    "    \n",
    "    \n",
    "    for i in attribute_img['attribute_labels']:\n",
    "        if type(i) == str:\n",
    "\n",
    "            ll = i.split()\n",
    "            ll = np.array(ll)\n",
    "            pos = np.where(ll == '1')[0]\n",
    "            for j in pos:\n",
    "                if attribute_cloth.iloc[j]['attribute_type'] == attribute_type:\n",
    "                    if dist[j+1]>=5452:   # change here for number of classes\n",
    "                        #print 'hi'\n",
    "                        #print image_name[pos]\n",
    "                        image_path.append(image_name[loc])#attribute_img.iloc[i]['image_name'])\n",
    "                        image_label.append(order_map[j+1])\n",
    "                        #class50_map[ attribute_img.iloc[i]['image_name']] = order_map[j]\n",
    "                #dd.append(j+1)\n",
    "        loc += 1\n",
    "            \n",
    "\n",
    "print 'done'\n",
    "print loc"
   ]
  },
  {
   "cell_type": "code",
   "execution_count": 9,
   "metadata": {
    "collapsed": false,
    "deletable": true,
    "editable": true
   },
   "outputs": [
    {
     "name": "stdout",
     "output_type": "stream",
     "text": [
      "DATASET CLASS DISTRIBUTION\n",
      "\n",
      "n_classes : 5\n",
      "Counter({'sleeve': 17826, 'sleeveless': 7987, 'long sleeve': 6656, 'v-neck': 5493, 'collar': 5452})\n"
     ]
    }
   ],
   "source": [
    "df = pd.DataFrame({'path':image_path,'label':image_label})\n",
    "df.to_csv('dataset.csv')\n",
    "\n",
    "print \"DATASET CLASS DISTRIBUTION\\n\"\n",
    "print \"n_classes : \"+str(len(Counter(df['label'])))\n",
    "print Counter(df['label'])"
   ]
  },
  {
   "cell_type": "code",
   "execution_count": 10,
   "metadata": {
    "collapsed": false,
    "deletable": true,
    "editable": true
   },
   "outputs": [
    {
     "data": {
      "text/html": [
       "<div>\n",
       "<style scoped>\n",
       "    .dataframe tbody tr th:only-of-type {\n",
       "        vertical-align: middle;\n",
       "    }\n",
       "\n",
       "    .dataframe tbody tr th {\n",
       "        vertical-align: top;\n",
       "    }\n",
       "\n",
       "    .dataframe thead th {\n",
       "        text-align: right;\n",
       "    }\n",
       "</style>\n",
       "<table border=\"1\" class=\"dataframe\">\n",
       "  <thead>\n",
       "    <tr style=\"text-align: right;\">\n",
       "      <th></th>\n",
       "      <th>label</th>\n",
       "      <th>path</th>\n",
       "    </tr>\n",
       "  </thead>\n",
       "  <tbody>\n",
       "    <tr>\n",
       "      <th>0</th>\n",
       "      <td>sleeveless</td>\n",
       "      <td>img/Sheer_Pleated-Front_Blouse/img_00000003.jpg</td>\n",
       "    </tr>\n",
       "    <tr>\n",
       "      <th>1</th>\n",
       "      <td>v-neck</td>\n",
       "      <td>img/Sheer_Pleated-Front_Blouse/img_00000003.jpg</td>\n",
       "    </tr>\n",
       "    <tr>\n",
       "      <th>2</th>\n",
       "      <td>sleeveless</td>\n",
       "      <td>img/Sheer_Pleated-Front_Blouse/img_00000019.jpg</td>\n",
       "    </tr>\n",
       "  </tbody>\n",
       "</table>\n",
       "</div>"
      ],
      "text/plain": [
       "        label                                             path\n",
       "0  sleeveless  img/Sheer_Pleated-Front_Blouse/img_00000003.jpg\n",
       "1      v-neck  img/Sheer_Pleated-Front_Blouse/img_00000003.jpg\n",
       "2  sleeveless  img/Sheer_Pleated-Front_Blouse/img_00000019.jpg"
      ]
     },
     "execution_count": 10,
     "metadata": {},
     "output_type": "execute_result"
    }
   ],
   "source": [
    "df.head(3)"
   ]
  },
  {
   "cell_type": "markdown",
   "metadata": {
    "deletable": true,
    "editable": true
   },
   "source": [
    "# TOP 5 ATTRIBUTE VISUALISATION"
   ]
  },
  {
   "cell_type": "code",
   "execution_count": 11,
   "metadata": {
    "collapsed": false,
    "deletable": true,
    "editable": true
   },
   "outputs": [
    {
     "data": {
      "image/png": "[encoded data removed]",
      "text/plain": [
       "<matplotlib.figure.Figure at 0x7faab0b53b10>"
      ]
     },
     "metadata": {},
     "output_type": "display_data"
    }
   ],
   "source": [
    "import seaborn as sb\n",
    "\n",
    "# gen_order = df['label'].value_count().index\n",
    "sb.countplot(data=df, x='label', color='blue')\n",
    "# plt.bar(df, label=df['label'], color='blue')\n",
    "# plt.legend()\n",
    "plt.ylabel('#IMAGES')\n",
    "plt.xticks(rotation=45)\n",
    "plt.title('top-5 class of PART')\n",
    "plt.savefig('part.png')\n",
    "plt.show()"
   ]
  },
  {
   "cell_type": "markdown",
   "metadata": {
    "deletable": true,
    "editable": true
   },
   "source": [
    "# CLASS BALANCE"
   ]
  },
  {
   "cell_type": "code",
   "execution_count": 11,
   "metadata": {
    "collapsed": false,
    "deletable": true,
    "editable": true
   },
   "outputs": [
    {
     "data": {
      "text/plain": [
       "Counter({'collar': 5452,\n",
       "         'long sleeve': 6000,\n",
       "         'sleeve': 6000,\n",
       "         'sleeveless': 6000,\n",
       "         'v-neck': 5493})"
      ]
     },
     "execution_count": 11,
     "metadata": {},
     "output_type": "execute_result"
    }
   ],
   "source": [
    "## balance classes\n",
    "UPPER_LIMIT = 6000#8000\n",
    "\n",
    "count_dict = defaultdict(lambda : 0)\n",
    "\n",
    "labels =[]\n",
    "paths =[]\n",
    "\n",
    "for i,l in enumerate(image_label):\n",
    "    if l=='sleeve' or l =='sleeveless' or l =='long sleeve' or l=='v-neck' or l=='collar':\n",
    "        if count_dict[l] < UPPER_LIMIT:\n",
    "            labels.append(image_label[i])\n",
    "            paths.append(image_path[i])\n",
    "    count_dict[l]+=1\n",
    "    \n",
    "df = pd.DataFrame({'path':paths,'label':labels})\n",
    "Counter(df['label'])"
   ]
  },
  {
   "cell_type": "code",
   "execution_count": 12,
   "metadata": {
    "collapsed": false,
    "deletable": true,
    "editable": true
   },
   "outputs": [
    {
     "name": "stdout",
     "output_type": "stream",
     "text": [
      "TRAIN data size \n",
      "(28, 2)\n",
      "TEST and VALIDATION data size  \n",
      "(28917, 2)\n"
     ]
    }
   ],
   "source": [
    "## PREPARE   TRAIN , TEST , VALIDATION :STRATIFIED\n",
    "TEST_SIZE = 0.999\n",
    "\n",
    "X_train, X_test, y_train, y_test = train_test_split(df['path'], df['label'],stratify=df['label'], test_size=TEST_SIZE)\n",
    "\n",
    "train = pd.DataFrame({'path':X_train,'label':y_train})\n",
    "test_data = pd.DataFrame({'path':X_test,'label':y_test})\n",
    "\n",
    "# clear variables\n",
    "\n",
    "del X_train, X_test, y_train, y_test\n",
    "print \"TRAIN data size \"\n",
    "print train.shape\n",
    "\n",
    "print \"TEST and VALIDATION data size  \"\n",
    "print test_data.shape\n",
    "\n",
    "X_val, X_test, y_val, y_test = train_test_split(test_data['path'], test_data['label'],stratify=test_data['label'], test_size=0.25)\n",
    "\n",
    "val = pd.DataFrame({'path':X_val,'label':y_val})\n",
    "test = pd.DataFrame({'path':X_test,'label':y_test})\n",
    "\n",
    "# clear variables\n",
    "\n",
    "del X_val, X_test, y_val, y_test,df\n",
    "\n",
    "Counter(test['label'])\n",
    "\n",
    "\n",
    "#  ====== DROP INDEXES ============\n",
    "\n",
    "\n",
    "val = val.reset_index(drop=True)\n",
    "test = test.reset_index(drop=True)"
   ]
  },
  {
   "cell_type": "code",
   "execution_count": 13,
   "metadata": {
    "collapsed": false,
    "deletable": true,
    "editable": true
   },
   "outputs": [
    {
     "name": "stdout",
     "output_type": "stream",
     "text": [
      "7230\n",
      "21687\n"
     ]
    }
   ],
   "source": [
    "print sum(Counter(test['label']).values())\n",
    "print sum(Counter(val['label']).values())"
   ]
  },
  {
   "cell_type": "code",
   "execution_count": 14,
   "metadata": {
    "collapsed": false,
    "deletable": true,
    "editable": true
   },
   "outputs": [
    {
     "data": {
      "text/html": [
       "<div>\n",
       "<style scoped>\n",
       "    .dataframe tbody tr th:only-of-type {\n",
       "        vertical-align: middle;\n",
       "    }\n",
       "\n",
       "    .dataframe tbody tr th {\n",
       "        vertical-align: top;\n",
       "    }\n",
       "\n",
       "    .dataframe thead th {\n",
       "        text-align: right;\n",
       "    }\n",
       "</style>\n",
       "<table border=\"1\" class=\"dataframe\">\n",
       "  <thead>\n",
       "    <tr style=\"text-align: right;\">\n",
       "      <th></th>\n",
       "      <th>label</th>\n",
       "      <th>path</th>\n",
       "    </tr>\n",
       "  </thead>\n",
       "  <tbody>\n",
       "    <tr>\n",
       "      <th>0</th>\n",
       "      <td>collar</td>\n",
       "      <td>img/Popcorn_Knit_Cardigan/img_00000013.jpg</td>\n",
       "    </tr>\n",
       "    <tr>\n",
       "      <th>1</th>\n",
       "      <td>sleeveless</td>\n",
       "      <td>img/Floral_Print_Surplice_Dress/img_00000014.jpg</td>\n",
       "    </tr>\n",
       "    <tr>\n",
       "      <th>2</th>\n",
       "      <td>v-neck</td>\n",
       "      <td>img/Striped_Loose-Knit_Sweater/img_00000014.jpg</td>\n",
       "    </tr>\n",
       "    <tr>\n",
       "      <th>3</th>\n",
       "      <td>collar</td>\n",
       "      <td>img/Lace_Collar_Shift_Dress/img_00000047.jpg</td>\n",
       "    </tr>\n",
       "    <tr>\n",
       "      <th>4</th>\n",
       "      <td>v-neck</td>\n",
       "      <td>img/Contrast_Chiffon_Shift_Dress/img_00000044.jpg</td>\n",
       "    </tr>\n",
       "  </tbody>\n",
       "</table>\n",
       "</div>"
      ],
      "text/plain": [
       "        label                                               path\n",
       "0      collar         img/Popcorn_Knit_Cardigan/img_00000013.jpg\n",
       "1  sleeveless   img/Floral_Print_Surplice_Dress/img_00000014.jpg\n",
       "2      v-neck    img/Striped_Loose-Knit_Sweater/img_00000014.jpg\n",
       "3      collar       img/Lace_Collar_Shift_Dress/img_00000047.jpg\n",
       "4      v-neck  img/Contrast_Chiffon_Shift_Dress/img_00000044.jpg"
      ]
     },
     "execution_count": 14,
     "metadata": {},
     "output_type": "execute_result"
    }
   ],
   "source": [
    "val.head()"
   ]
  },
  {
   "cell_type": "code",
   "execution_count": 15,
   "metadata": {
    "collapsed": false,
    "deletable": true,
    "editable": true
   },
   "outputs": [
    {
     "data": {
      "text/html": [
       "<div>\n",
       "<style scoped>\n",
       "    .dataframe tbody tr th:only-of-type {\n",
       "        vertical-align: middle;\n",
       "    }\n",
       "\n",
       "    .dataframe tbody tr th {\n",
       "        vertical-align: top;\n",
       "    }\n",
       "\n",
       "    .dataframe thead th {\n",
       "        text-align: right;\n",
       "    }\n",
       "</style>\n",
       "<table border=\"1\" class=\"dataframe\">\n",
       "  <thead>\n",
       "    <tr style=\"text-align: right;\">\n",
       "      <th></th>\n",
       "      <th>label</th>\n",
       "      <th>path</th>\n",
       "    </tr>\n",
       "  </thead>\n",
       "  <tbody>\n",
       "    <tr>\n",
       "      <th>0</th>\n",
       "      <td>long sleeve</td>\n",
       "      <td>img/Dotted_Crochet-Trimmed_Collared_Blouse/img...</td>\n",
       "    </tr>\n",
       "    <tr>\n",
       "      <th>1</th>\n",
       "      <td>sleeveless</td>\n",
       "      <td>img/Floral_Crochet_Racerback_Romper/img_000000...</td>\n",
       "    </tr>\n",
       "    <tr>\n",
       "      <th>2</th>\n",
       "      <td>long sleeve</td>\n",
       "      <td>img/High-Neck_Sheer_Blouse/img_00000101.jpg</td>\n",
       "    </tr>\n",
       "    <tr>\n",
       "      <th>3</th>\n",
       "      <td>sleeveless</td>\n",
       "      <td>img/Fluttered_Polka_Dot_Blouse/img_00000028.jpg</td>\n",
       "    </tr>\n",
       "    <tr>\n",
       "      <th>4</th>\n",
       "      <td>collar</td>\n",
       "      <td>img/Collared_Plaid_Blouse/img_00000008.jpg</td>\n",
       "    </tr>\n",
       "  </tbody>\n",
       "</table>\n",
       "</div>"
      ],
      "text/plain": [
       "         label                                               path\n",
       "0  long sleeve  img/Dotted_Crochet-Trimmed_Collared_Blouse/img...\n",
       "1   sleeveless  img/Floral_Crochet_Racerback_Romper/img_000000...\n",
       "2  long sleeve        img/High-Neck_Sheer_Blouse/img_00000101.jpg\n",
       "3   sleeveless    img/Fluttered_Polka_Dot_Blouse/img_00000028.jpg\n",
       "4       collar         img/Collared_Plaid_Blouse/img_00000008.jpg"
      ]
     },
     "execution_count": 15,
     "metadata": {},
     "output_type": "execute_result"
    }
   ],
   "source": [
    "test.head()"
   ]
  },
  {
   "cell_type": "code",
   "execution_count": 16,
   "metadata": {
    "collapsed": false,
    "deletable": true,
    "editable": true
   },
   "outputs": [
    {
     "name": "stdout",
     "output_type": "stream",
     "text": [
      "Total Images : 7230\n",
      "0\n",
      "1000\n",
      "2000\n",
      "3000\n",
      "4000\n",
      "5000\n",
      "6000\n",
      "7000\n"
     ]
    }
   ],
   "source": [
    "## create directories and save data\n",
    "# dest_dir = '/media/mint/New Volume/3_semester_IIIT_D/CF/project/small_data_attri4/test/'\n",
    "dest_dir = '/media/mint/New Volume/3_semester_IIIT_D/CF/project/30_11_new/small_data_attri4/test/'\n",
    "\n",
    "def create_folders(data):\n",
    "    \n",
    "    print \"Total Images : \"+str(data.shape[0])\n",
    "    global dest_dir\n",
    "    for i in data.index:\n",
    "        label = data.iloc[i]['label']\n",
    "        #print label\n",
    "        src = img_path+data.iloc[i]['path']\n",
    "        #print src\n",
    "        #print dest_dir+'/'+label\n",
    "        #break\n",
    "        \n",
    "#         if not os.path.exists(dest_dir+label):\n",
    "#             os.makedirs(dest_dir+label)\n",
    "            \n",
    "        copyfile(src, dest_dir+label+'/'+data.iloc[i]['path'].split('/')[-2]+'_'+data.iloc[i]['path'].split('/')[-1])\n",
    "        if i%1000==0:\n",
    "            print i\n",
    "    \n",
    "create_folders(test)    "
   ]
  },
  {
   "cell_type": "code",
   "execution_count": 17,
   "metadata": {
    "collapsed": false,
    "deletable": true,
    "editable": true
   },
   "outputs": [
    {
     "name": "stdout",
     "output_type": "stream",
     "text": [
      "Total Images : 21687\n",
      "0\n",
      "1000\n",
      "2000\n",
      "3000\n",
      "4000\n",
      "5000\n",
      "6000\n",
      "7000\n",
      "8000\n",
      "9000\n",
      "10000\n",
      "11000\n",
      "12000\n",
      "13000\n",
      "14000\n",
      "15000\n",
      "16000\n",
      "17000\n",
      "18000\n",
      "19000\n",
      "20000\n",
      "21000\n"
     ]
    }
   ],
   "source": [
    "## create directories and save data\n",
    "# dest_dir = '/media/mint/New Volume/3_semester_IIIT_D/CF/project/small_data_attri4/val/'\n",
    "dest_dir = '/media/mint/New Volume/3_semester_IIIT_D/CF/project/30_11_new/small_data_attri4/val/'\n",
    "\n",
    "def create_folders(data):\n",
    "    \n",
    "    print \"Total Images : \"+str(data.shape[0])\n",
    "    global dest_dir\n",
    "    for i in data.index:\n",
    "        label = data.iloc[i]['label']\n",
    "        src = img_path+data.iloc[i]['path']\n",
    "        \n",
    "#         if not os.path.exists(dest_dir+label):\n",
    "#             os.makedirs(dest_dir+label)\n",
    "            \n",
    "        copyfile(src, dest_dir+label+'/'+data.iloc[i]['path'].split('/')[-2]+'_'+data.iloc[i]['path'].split('/')[-1])\n",
    "        if i%1000==0:\n",
    "            print i\n",
    "    \n",
    "create_folders(val)    "
   ]
  },
  {
   "cell_type": "code",
   "execution_count": 18,
   "metadata": {
    "collapsed": true,
    "deletable": true,
    "editable": true
   },
   "outputs": [],
   "source": [
    "N_CLASSES = 5"
   ]
  }
 ],
 "metadata": {
  "kernelspec": {
   "display_name": "Python 2",
   "language": "python",
   "name": "python2"
  },
  "language_info": {
   "codemirror_mode": {
    "name": "ipython",
    "version": 2
   },
   "file_extension": ".py",
   "mimetype": "text/x-python",
   "name": "python",
   "nbconvert_exporter": "python",
   "pygments_lexer": "ipython2",
   "version": "2.7.15"
  }
 },
 "nbformat": 4,
 "nbformat_minor": 2
}
