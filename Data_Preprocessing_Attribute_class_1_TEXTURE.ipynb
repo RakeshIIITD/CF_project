{
 "cells": [
  {
   "cell_type": "markdown",
   "metadata": {
    "deletable": true,
    "editable": true
   },
   "source": [
    "# HEADER FILE"
   ]
  },
  {
   "cell_type": "code",
   "execution_count": 1,
   "metadata": {
    "collapsed": true,
    "deletable": true,
    "editable": true
   },
   "outputs": [],
   "source": [
    "import pandas as pd\n",
    "from matplotlib import pyplot as plt\n",
    "import glob\n",
    "from collections import Counter,defaultdict\n",
    "import matplotlib.image as mpimg\n",
    "from IPython.display import clear_output\n",
    "import time\n",
    "import warnings\n",
    "warnings.filterwarnings('ignore')\n",
    "from  sklearn.model_selection import train_test_split\n",
    "import sys,os\n",
    "from shutil import copyfile\n",
    "import numpy as np\n",
    "os.environ['CUDA_VISIBLE_DEVICES'] = ''\n"
   ]
  },
  {
   "cell_type": "markdown",
   "metadata": {
    "deletable": true,
    "editable": true
   },
   "source": [
    "# DATA PATH "
   ]
  },
  {
   "cell_type": "code",
   "execution_count": 2,
   "metadata": {
    "collapsed": true,
    "deletable": true,
    "editable": true
   },
   "outputs": [],
   "source": [
    "attribute_img_path = '/media/mint/New Volume/3_semester_IIIT_D/CF/project/Category and Attribute/Anno/list_attr_img.txt'\n",
    "attribute_cloth_path = '/media/mint/New Volume/3_semester_IIIT_D/CF/project/Category and Attribute/Anno/list_attr_cloth.txt'\n",
    "img_path = '/media/mint/New Volume/3_semester_IIIT_D/CF/project/Category and Attribute/img/'"
   ]
  },
  {
   "cell_type": "markdown",
   "metadata": {
    "deletable": true,
    "editable": true
   },
   "source": [
    "# DATA VISUALISATION"
   ]
  },
  {
   "cell_type": "code",
   "execution_count": 3,
   "metadata": {
    "collapsed": false,
    "deletable": true,
    "editable": true
   },
   "outputs": [
    {
     "name": "stdout",
     "output_type": "stream",
     "text": [
      "done\n"
     ]
    }
   ],
   "source": [
    "attribute_cloth = pd.read_csv(attribute_cloth_path, sep=\"\\s\\s+\")\n",
    "print 'done'"
   ]
  },
  {
   "cell_type": "code",
   "execution_count": 4,
   "metadata": {
    "collapsed": false,
    "deletable": true,
    "editable": true
   },
   "outputs": [
    {
     "data": {
      "text/html": [
       "<div>\n",
       "<style scoped>\n",
       "    .dataframe tbody tr th:only-of-type {\n",
       "        vertical-align: middle;\n",
       "    }\n",
       "\n",
       "    .dataframe tbody tr th {\n",
       "        vertical-align: top;\n",
       "    }\n",
       "\n",
       "    .dataframe thead th {\n",
       "        text-align: right;\n",
       "    }\n",
       "</style>\n",
       "<table border=\"1\" class=\"dataframe\">\n",
       "  <thead>\n",
       "    <tr style=\"text-align: right;\">\n",
       "      <th></th>\n",
       "      <th>attribute_name</th>\n",
       "      <th>attribute_type</th>\n",
       "    </tr>\n",
       "  </thead>\n",
       "  <tbody>\n",
       "    <tr>\n",
       "      <th>0</th>\n",
       "      <td>a-line</td>\n",
       "      <td>3</td>\n",
       "    </tr>\n",
       "    <tr>\n",
       "      <th>1</th>\n",
       "      <td>abstract</td>\n",
       "      <td>1</td>\n",
       "    </tr>\n",
       "    <tr>\n",
       "      <th>2</th>\n",
       "      <td>abstract chevron</td>\n",
       "      <td>1</td>\n",
       "    </tr>\n",
       "    <tr>\n",
       "      <th>3</th>\n",
       "      <td>abstract chevron print</td>\n",
       "      <td>1</td>\n",
       "    </tr>\n",
       "    <tr>\n",
       "      <th>4</th>\n",
       "      <td>abstract diamond</td>\n",
       "      <td>1</td>\n",
       "    </tr>\n",
       "  </tbody>\n",
       "</table>\n",
       "</div>"
      ],
      "text/plain": [
       "           attribute_name  attribute_type\n",
       "0                  a-line               3\n",
       "1                abstract               1\n",
       "2        abstract chevron               1\n",
       "3  abstract chevron print               1\n",
       "4        abstract diamond               1"
      ]
     },
     "execution_count": 4,
     "metadata": {},
     "output_type": "execute_result"
    }
   ],
   "source": [
    "attribute_cloth.head()"
   ]
  },
  {
   "cell_type": "code",
   "execution_count": 5,
   "metadata": {
    "collapsed": false,
    "deletable": true,
    "editable": true
   },
   "outputs": [
    {
     "data": {
      "text/html": [
       "<div>\n",
       "<style scoped>\n",
       "    .dataframe tbody tr th:only-of-type {\n",
       "        vertical-align: middle;\n",
       "    }\n",
       "\n",
       "    .dataframe tbody tr th {\n",
       "        vertical-align: top;\n",
       "    }\n",
       "\n",
       "    .dataframe thead th {\n",
       "        text-align: right;\n",
       "    }\n",
       "</style>\n",
       "<table border=\"1\" class=\"dataframe\">\n",
       "  <thead>\n",
       "    <tr style=\"text-align: right;\">\n",
       "      <th></th>\n",
       "      <th>image_name</th>\n",
       "      <th>attribute_labels</th>\n",
       "    </tr>\n",
       "  </thead>\n",
       "  <tbody>\n",
       "    <tr>\n",
       "      <th>0</th>\n",
       "      <td>img/Sheer_Pleated-Front_Blouse/img_00000001.jpg</td>\n",
       "      <td>-1 -1 -1 -1 -1 -1 -1 -1 -1 -1 -1 -1 -1 -1 -1 -...</td>\n",
       "    </tr>\n",
       "    <tr>\n",
       "      <th>1</th>\n",
       "      <td>img/Sheer_Pleated-Front_Blouse/img_00000002.jpg</td>\n",
       "      <td>-1 -1 -1 -1 -1 -1 -1 -1 -1 -1 -1 -1 -1 -1 -1 -...</td>\n",
       "    </tr>\n",
       "    <tr>\n",
       "      <th>2</th>\n",
       "      <td>img/Sheer_Pleated-Front_Blouse/img_00000003.jpg</td>\n",
       "      <td>-1 -1 -1 -1 -1 -1 -1 -1 -1 -1 -1 -1 -1 -1 -1 -...</td>\n",
       "    </tr>\n",
       "    <tr>\n",
       "      <th>3</th>\n",
       "      <td>img/Sheer_Pleated-Front_Blouse/img_00000004.jpg</td>\n",
       "      <td>-1 -1 -1 -1 -1 -1 -1 -1 -1 -1 -1 -1 -1 -1 -1 -...</td>\n",
       "    </tr>\n",
       "    <tr>\n",
       "      <th>4</th>\n",
       "      <td>img/Sheer_Pleated-Front_Blouse/img_00000005.jpg</td>\n",
       "      <td>-1 -1 -1 -1 -1 -1 -1 -1 -1 -1 -1 -1 -1 -1 -1 -...</td>\n",
       "    </tr>\n",
       "  </tbody>\n",
       "</table>\n",
       "</div>"
      ],
      "text/plain": [
       "                                        image_name  \\\n",
       "0  img/Sheer_Pleated-Front_Blouse/img_00000001.jpg   \n",
       "1  img/Sheer_Pleated-Front_Blouse/img_00000002.jpg   \n",
       "2  img/Sheer_Pleated-Front_Blouse/img_00000003.jpg   \n",
       "3  img/Sheer_Pleated-Front_Blouse/img_00000004.jpg   \n",
       "4  img/Sheer_Pleated-Front_Blouse/img_00000005.jpg   \n",
       "\n",
       "                                    attribute_labels  \n",
       "0  -1 -1 -1 -1 -1 -1 -1 -1 -1 -1 -1 -1 -1 -1 -1 -...  \n",
       "1  -1 -1 -1 -1 -1 -1 -1 -1 -1 -1 -1 -1 -1 -1 -1 -...  \n",
       "2  -1 -1 -1 -1 -1 -1 -1 -1 -1 -1 -1 -1 -1 -1 -1 -...  \n",
       "3  -1 -1 -1 -1 -1 -1 -1 -1 -1 -1 -1 -1 -1 -1 -1 -...  \n",
       "4  -1 -1 -1 -1 -1 -1 -1 -1 -1 -1 -1 -1 -1 -1 -1 -...  "
      ]
     },
     "execution_count": 5,
     "metadata": {},
     "output_type": "execute_result"
    }
   ],
   "source": [
    "chunksize = 10 ** 3 \n",
    "attribute_img = 0\n",
    "for chunk in pd.read_csv(attribute_img_path, sep=\"\\s\\s\\s+\", chunksize=chunksize):\n",
    "    attribute_img = chunk\n",
    "    break\n",
    "attribute_img.head()"
   ]
  },
  {
   "cell_type": "markdown",
   "metadata": {
    "deletable": true,
    "editable": true
   },
   "source": [
    "# ATTRIBUTE_IMG_PATH_DETAILS"
   ]
  },
  {
   "cell_type": "code",
   "execution_count": null,
   "metadata": {
    "collapsed": false,
    "deletable": true,
    "editable": true
   },
   "outputs": [],
   "source": [
    "#-----------------------    DATA greater than 1GB SIZE, SO READING CHUNK WISE    --------------------------\n",
    "chunksize = 10 ** 4  \n",
    "\n",
    "attribute_type = 1  # ------------ considering only class 1 - TEXTURE       \n",
    "\n",
    "dd = []\n",
    "for chunk in pd.read_csv(attribute_img_path, sep=\"\\s\\s\\s+\", chunksize=chunksize):\n",
    "    attribute_img = chunk\n",
    "    \n",
    "    for i in attribute_img['attribute_labels']:\n",
    "        if type(i) == str:\n",
    "\n",
    "            ll = i.split()\n",
    "            ll = np.array(ll)\n",
    "            pos = np.where(ll == '1')[0]\n",
    "            for j in pos:\n",
    "                if attribute_cloth.iloc[j]['attribute_type'] == attribute_type: \n",
    "                    dd.append(j+1)\n",
    "dist = Counter(dd)\n",
    "print dist"
   ]
  },
  {
   "cell_type": "code",
   "execution_count": null,
   "metadata": {
    "collapsed": false,
    "deletable": true,
    "editable": true
   },
   "outputs": [],
   "source": [
    "# ---------------------     KEEPING IMAGE NAME IN LIST, FOR FURTHER NEED     -----------------------\n",
    "chunksize = 10 ** 4\n",
    "\n",
    "image_name = []\n",
    "for chunk in pd.read_csv(attribute_img_path, sep=\"\\s\\s\\s+\", chunksize=chunksize):\n",
    "    attribute_img = chunk\n",
    "    \n",
    "    for i in attribute_img['image_name']:\n",
    "        image_name.append(i)\n",
    "        \n",
    "print len(image_name)"
   ]
  },
  {
   "cell_type": "code",
   "execution_count": 9,
   "metadata": {
    "collapsed": false,
    "deletable": true,
    "editable": true
   },
   "outputs": [
    {
     "name": "stdout",
     "output_type": "stream",
     "text": [
      "img/Sheer_Pleated-Front_Blouse/img_00000001.jpg\n",
      "img/Sheer_Pleated-Front_Blouse/img_00000002.jpg\n"
     ]
    }
   ],
   "source": [
    "# -------------------      JUST CONFORING ABOVE CELL OUTPUT      -----------------------------\n",
    "print image_name[0]\n",
    "print image_name[1]"
   ]
  },
  {
   "cell_type": "markdown",
   "metadata": {
    "deletable": true,
    "editable": true
   },
   "source": [
    "# ATTRIBUTE_CLOTH_PATH_DETAILS"
   ]
  },
  {
   "cell_type": "code",
   "execution_count": null,
   "metadata": {
    "collapsed": false,
    "deletable": true,
    "editable": true
   },
   "outputs": [],
   "source": [
    "#---------------------      ROOT CLASS DISTRIBUTION                ---------------------\n",
    "\n",
    "# CONVERT 1000 CLASS TO THEIR NAME\n",
    "order_map = {}\n",
    "for i in attribute_cloth.index:\n",
    "    if attribute_cloth.iloc[i]['attribute_type'] == attribute_type: \n",
    "        order_map[i+1] = attribute_cloth.iloc[i]['attribute_name']\n",
    "\n",
    "    \n",
    "# print order_map\n",
    "print \n",
    "#   DISTRIBUTION\n",
    "attribute_cloth_map = defaultdict()\n",
    "    \n",
    "for i in attribute_cloth.index:\n",
    "    if attribute_cloth.iloc[i]['attribute_type'] == attribute_type: \n",
    "        attribute_cloth_map[i+1] = attribute_cloth.loc[i]['attribute_type']\n",
    "    \n",
    "print 'done'\n",
    "print attribute_cloth_map\n",
    "    \n",
    "# class1000_map = {}"
   ]
  },
  {
   "cell_type": "code",
   "execution_count": null,
   "metadata": {
    "collapsed": true,
    "deletable": true,
    "editable": true
   },
   "outputs": [],
   "source": [
    "# ## --------------  VISUALIZATION -------------------\n",
    "\n",
    "# for i in class1000_map.keys():\n",
    "#     clear_output( wait = True )\n",
    "    \n",
    "#     img = mpimg.imread(img_path+i)\n",
    "#     plt.imshow(img)\n",
    "#     plt.show()\n",
    "#     print \"Class : \"+str(class50_map[i])\n",
    "#     time.sleep(1)"
   ]
  },
  {
   "cell_type": "markdown",
   "metadata": {
    "deletable": true,
    "editable": true
   },
   "source": [
    "## DATASET PREPARATION : FILTERING MINORITY CLASSES"
   ]
  },
  {
   "cell_type": "code",
   "execution_count": null,
   "metadata": {
    "collapsed": false,
    "deletable": true,
    "editable": true
   },
   "outputs": [],
   "source": [
    "## ===========      CREATE A DATAFRAME OF IMAGE PATH AND ITS LABELS   =====================\n",
    "\n",
    "image_path = []\n",
    "image_label = []\n",
    "\n",
    "loc = 0\n",
    "for chunk in pd.read_csv(attribute_img_path, sep=\"\\s\\s\\s+\", chunksize=chunksize):\n",
    "    attribute_img = chunk\n",
    "    \n",
    "    \n",
    "    for i in attribute_img['attribute_labels']:\n",
    "        if type(i) == str:\n",
    "\n",
    "            ll = i.split()\n",
    "            ll = np.array(ll)\n",
    "            pos = np.where(ll == '1')[0]\n",
    "            for j in pos:\n",
    "                if attribute_cloth.iloc[j]['attribute_type'] == attribute_type:\n",
    "                    if dist[j+1]>=7559:\n",
    "                        image_path.append(image_name[loc])\n",
    "                        image_label.append(order_map[j+1])\n",
    "                        #class1000_map[image_name[loc]] = order_map[j]\n",
    "        loc += 1\n",
    "            \n",
    "print 'done'\n",
    "print loc"
   ]
  },
  {
   "cell_type": "code",
   "execution_count": null,
   "metadata": {
    "collapsed": false,
    "deletable": true,
    "editable": true
   },
   "outputs": [],
   "source": [
    "# --------------------------- CREATING DATAFRAME AFTER REMOVING MINORITY CLASS ---------------\n",
    "\n",
    "df = pd.DataFrame({'path':image_path,'label':image_label})\n",
    "df.to_csv('dataset.csv')\n",
    "\n",
    "print \"DATASET CLASS DISTRIBUTION\\n\"\n",
    "print \"n_classes : \"+str(len(Counter(df['label'])))\n",
    "print Counter(df['label'])"
   ]
  },
  {
   "cell_type": "markdown",
   "metadata": {
    "deletable": true,
    "editable": true
   },
   "source": [
    "# TOP 5 ATTRIBUTE VISUALISATION"
   ]
  },
  {
   "cell_type": "code",
   "execution_count": null,
   "metadata": {
    "collapsed": false,
    "deletable": true,
    "editable": true
   },
   "outputs": [],
   "source": [
    "import seaborn as sb\n",
    "\n",
    "# gen_order = df['label'].value_count().index\n",
    "sb.countplot(data=df, x='label', color='blue')\n",
    "# plt.bar(df, label=df['label'], color='blue')\n",
    "# plt.legend()\n",
    "plt.ylabel('#IMAGES')\n",
    "plt.xticks(rotation=45)\n",
    "plt.title('Top-5 Attribute of TEXTURE')\n",
    "plt.savefig('texture.png')\n",
    "plt.show()"
   ]
  },
  {
   "cell_type": "code",
   "execution_count": 13,
   "metadata": {
    "collapsed": false,
    "deletable": true,
    "editable": true
   },
   "outputs": [
    {
     "data": {
      "text/html": [
       "<div>\n",
       "<style scoped>\n",
       "    .dataframe tbody tr th:only-of-type {\n",
       "        vertical-align: middle;\n",
       "    }\n",
       "\n",
       "    .dataframe tbody tr th {\n",
       "        vertical-align: top;\n",
       "    }\n",
       "\n",
       "    .dataframe thead th {\n",
       "        text-align: right;\n",
       "    }\n",
       "</style>\n",
       "<table border=\"1\" class=\"dataframe\">\n",
       "  <thead>\n",
       "    <tr style=\"text-align: right;\">\n",
       "      <th></th>\n",
       "      <th>label</th>\n",
       "      <th>path</th>\n",
       "    </tr>\n",
       "  </thead>\n",
       "  <tbody>\n",
       "    <tr>\n",
       "      <th>0</th>\n",
       "      <td>print</td>\n",
       "      <td>img/Sheer_Pleated-Front_Blouse/img_00000016.jpg</td>\n",
       "    </tr>\n",
       "    <tr>\n",
       "      <th>1</th>\n",
       "      <td>floral</td>\n",
       "      <td>img/Sheer_Pleated-Front_Blouse/img_00000035.jpg</td>\n",
       "    </tr>\n",
       "    <tr>\n",
       "      <th>2</th>\n",
       "      <td>striped</td>\n",
       "      <td>img/Sheer_Pleated-Front_Blouse/img_00000054.jpg</td>\n",
       "    </tr>\n",
       "  </tbody>\n",
       "</table>\n",
       "</div>"
      ],
      "text/plain": [
       "     label                                             path\n",
       "0    print  img/Sheer_Pleated-Front_Blouse/img_00000016.jpg\n",
       "1   floral  img/Sheer_Pleated-Front_Blouse/img_00000035.jpg\n",
       "2  striped  img/Sheer_Pleated-Front_Blouse/img_00000054.jpg"
      ]
     },
     "execution_count": 13,
     "metadata": {},
     "output_type": "execute_result"
    }
   ],
   "source": [
    "# ------------------       DATAFRAME OUTPUT ---------------------------------\n",
    "df.head(3)"
   ]
  },
  {
   "cell_type": "markdown",
   "metadata": {
    "deletable": true,
    "editable": true
   },
   "source": [
    "# CLASS BALANCE"
   ]
  },
  {
   "cell_type": "code",
   "execution_count": 26,
   "metadata": {
    "collapsed": false,
    "deletable": true,
    "editable": true
   },
   "outputs": [
    {
     "data": {
      "text/plain": [
       "Counter({'floral': 7000,\n",
       "         'floral print': 7000,\n",
       "         'print': 7000,\n",
       "         'stripe': 7000,\n",
       "         'striped': 7000})"
      ]
     },
     "execution_count": 26,
     "metadata": {},
     "output_type": "execute_result"
    }
   ],
   "source": [
    "## balance classes\n",
    "UPPER_LIMIT = 7000#9000\n",
    "\n",
    "count_dict = defaultdict(lambda : 0)\n",
    "\n",
    "labels =[]\n",
    "paths =[]\n",
    "\n",
    "for i,l in enumerate(image_label):\n",
    "    if l=='stripe' or l =='floral' or l =='print' or l=='striped' or l=='floral print':\n",
    "        if count_dict[l] < UPPER_LIMIT:\n",
    "            labels.append(image_label[i])\n",
    "            paths.append(image_path[i])\n",
    "    count_dict[l]+=1\n",
    "    \n",
    "df = pd.DataFrame({'path':paths,'label':labels})\n",
    "Counter(df['label'])"
   ]
  },
  {
   "cell_type": "markdown",
   "metadata": {
    "deletable": true,
    "editable": true
   },
   "source": [
    "# DATA SPLIT"
   ]
  },
  {
   "cell_type": "code",
   "execution_count": 27,
   "metadata": {
    "collapsed": false,
    "deletable": true,
    "editable": true
   },
   "outputs": [
    {
     "name": "stdout",
     "output_type": "stream",
     "text": [
      "TRAIN data size \n",
      "(35, 2)\n",
      "TEST and VALIDATION data size  \n",
      "(34965, 2)\n"
     ]
    }
   ],
   "source": [
    "## PREPARE   TRAIN , TEST , VALIDATION :STRATIFIED\n",
    "TEST_SIZE = 0.999\n",
    "\n",
    "X_train, X_test, y_train, y_test = train_test_split(df['path'], df['label'],stratify=df['label'], test_size=TEST_SIZE)\n",
    "\n",
    "train = pd.DataFrame({'path':X_train,'label':y_train})\n",
    "test_data = pd.DataFrame({'path':X_test,'label':y_test})\n",
    "\n",
    "# clear variables\n",
    "\n",
    "del X_train, X_test, y_train, y_test\n",
    "print \"TRAIN data size \"\n",
    "print train.shape\n",
    "\n",
    "print \"TEST and VALIDATION data size  \"\n",
    "print test_data.shape\n",
    "\n",
    "X_val, X_test, y_val, y_test = train_test_split(test_data['path'], test_data['label'],stratify=test_data['label'], test_size=0.25)\n",
    "\n",
    "val = pd.DataFrame({'path':X_val,'label':y_val})\n",
    "test = pd.DataFrame({'path':X_test,'label':y_test})\n",
    "\n",
    "# clear variables\n",
    "\n",
    "del X_val, X_test, y_val, y_test,df\n",
    "\n",
    "Counter(test['label'])\n",
    "\n",
    "\n",
    "#  ====== DROP INDEXES ============\n",
    "\n",
    "\n",
    "val = val.reset_index(drop=True)\n",
    "test = test.reset_index(drop=True)"
   ]
  },
  {
   "cell_type": "code",
   "execution_count": 31,
   "metadata": {
    "collapsed": false,
    "deletable": true,
    "editable": true
   },
   "outputs": [
    {
     "name": "stdout",
     "output_type": "stream",
     "text": [
      "8742\n",
      "26223\n"
     ]
    }
   ],
   "source": [
    "print sum(Counter(test['label']).values())\n",
    "print sum(Counter(val['label']).values())"
   ]
  },
  {
   "cell_type": "code",
   "execution_count": 32,
   "metadata": {
    "collapsed": false,
    "deletable": true,
    "editable": true
   },
   "outputs": [
    {
     "data": {
      "text/html": [
       "<div>\n",
       "<style scoped>\n",
       "    .dataframe tbody tr th:only-of-type {\n",
       "        vertical-align: middle;\n",
       "    }\n",
       "\n",
       "    .dataframe tbody tr th {\n",
       "        vertical-align: top;\n",
       "    }\n",
       "\n",
       "    .dataframe thead th {\n",
       "        text-align: right;\n",
       "    }\n",
       "</style>\n",
       "<table border=\"1\" class=\"dataframe\">\n",
       "  <thead>\n",
       "    <tr style=\"text-align: right;\">\n",
       "      <th></th>\n",
       "      <th>label</th>\n",
       "      <th>path</th>\n",
       "    </tr>\n",
       "  </thead>\n",
       "  <tbody>\n",
       "    <tr>\n",
       "      <th>0</th>\n",
       "      <td>striped</td>\n",
       "      <td>img/Classic_Striped_Tee/img_00000047.jpg</td>\n",
       "    </tr>\n",
       "    <tr>\n",
       "      <th>1</th>\n",
       "      <td>floral</td>\n",
       "      <td>img/Bell-Sleeved_Lace_Crop_Top/img_00000069.jpg</td>\n",
       "    </tr>\n",
       "    <tr>\n",
       "      <th>2</th>\n",
       "      <td>floral print</td>\n",
       "      <td>img/Floral_Mosaic_Print_Jumpsuit/img_00000015.jpg</td>\n",
       "    </tr>\n",
       "    <tr>\n",
       "      <th>3</th>\n",
       "      <td>striped</td>\n",
       "      <td>img/Ruffled_Trim_Sweater/img_00000050.jpg</td>\n",
       "    </tr>\n",
       "    <tr>\n",
       "      <th>4</th>\n",
       "      <td>floral</td>\n",
       "      <td>img/Floral_Chiffon_Blouse/img_00000149.jpg</td>\n",
       "    </tr>\n",
       "  </tbody>\n",
       "</table>\n",
       "</div>"
      ],
      "text/plain": [
       "          label                                               path\n",
       "0       striped           img/Classic_Striped_Tee/img_00000047.jpg\n",
       "1        floral    img/Bell-Sleeved_Lace_Crop_Top/img_00000069.jpg\n",
       "2  floral print  img/Floral_Mosaic_Print_Jumpsuit/img_00000015.jpg\n",
       "3       striped          img/Ruffled_Trim_Sweater/img_00000050.jpg\n",
       "4        floral         img/Floral_Chiffon_Blouse/img_00000149.jpg"
      ]
     },
     "execution_count": 32,
     "metadata": {},
     "output_type": "execute_result"
    }
   ],
   "source": [
    "test.head()"
   ]
  },
  {
   "cell_type": "code",
   "execution_count": 33,
   "metadata": {
    "collapsed": false,
    "deletable": true,
    "editable": true
   },
   "outputs": [
    {
     "data": {
      "text/html": [
       "<div>\n",
       "<style scoped>\n",
       "    .dataframe tbody tr th:only-of-type {\n",
       "        vertical-align: middle;\n",
       "    }\n",
       "\n",
       "    .dataframe tbody tr th {\n",
       "        vertical-align: top;\n",
       "    }\n",
       "\n",
       "    .dataframe thead th {\n",
       "        text-align: right;\n",
       "    }\n",
       "</style>\n",
       "<table border=\"1\" class=\"dataframe\">\n",
       "  <thead>\n",
       "    <tr style=\"text-align: right;\">\n",
       "      <th></th>\n",
       "      <th>label</th>\n",
       "      <th>path</th>\n",
       "    </tr>\n",
       "  </thead>\n",
       "  <tbody>\n",
       "    <tr>\n",
       "      <th>0</th>\n",
       "      <td>striped</td>\n",
       "      <td>img/Classic_Striped_Tee/img_00000047.jpg</td>\n",
       "    </tr>\n",
       "    <tr>\n",
       "      <th>1</th>\n",
       "      <td>floral</td>\n",
       "      <td>img/Bell-Sleeved_Lace_Crop_Top/img_00000069.jpg</td>\n",
       "    </tr>\n",
       "    <tr>\n",
       "      <th>2</th>\n",
       "      <td>floral print</td>\n",
       "      <td>img/Floral_Mosaic_Print_Jumpsuit/img_00000015.jpg</td>\n",
       "    </tr>\n",
       "    <tr>\n",
       "      <th>3</th>\n",
       "      <td>striped</td>\n",
       "      <td>img/Ruffled_Trim_Sweater/img_00000050.jpg</td>\n",
       "    </tr>\n",
       "    <tr>\n",
       "      <th>4</th>\n",
       "      <td>floral</td>\n",
       "      <td>img/Floral_Chiffon_Blouse/img_00000149.jpg</td>\n",
       "    </tr>\n",
       "  </tbody>\n",
       "</table>\n",
       "</div>"
      ],
      "text/plain": [
       "          label                                               path\n",
       "0       striped           img/Classic_Striped_Tee/img_00000047.jpg\n",
       "1        floral    img/Bell-Sleeved_Lace_Crop_Top/img_00000069.jpg\n",
       "2  floral print  img/Floral_Mosaic_Print_Jumpsuit/img_00000015.jpg\n",
       "3       striped          img/Ruffled_Trim_Sweater/img_00000050.jpg\n",
       "4        floral         img/Floral_Chiffon_Blouse/img_00000149.jpg"
      ]
     },
     "execution_count": 33,
     "metadata": {},
     "output_type": "execute_result"
    }
   ],
   "source": [
    "test.head()"
   ]
  },
  {
   "cell_type": "markdown",
   "metadata": {
    "deletable": true,
    "editable": true
   },
   "source": [
    "# CREATE DIRECTORIES AND SAVE DATA"
   ]
  },
  {
   "cell_type": "code",
   "execution_count": 34,
   "metadata": {
    "collapsed": false,
    "deletable": true,
    "editable": true
   },
   "outputs": [
    {
     "name": "stdout",
     "output_type": "stream",
     "text": [
      "Total Images : 8742\n",
      "0\n",
      "1000\n",
      "2000\n",
      "3000\n",
      "4000\n",
      "5000\n",
      "6000\n",
      "7000\n",
      "8000\n"
     ]
    }
   ],
   "source": [
    "#-----------CREATE DICRETORIES AND SAVE DATA ----------------------------\n",
    "# dest_dir = '/media/mint/New Volume/3_semester_IIIT_D/CF/project/small_data_attri1/test/'\n",
    "dest_dir = '/media/mint/New Volume/3_semester_IIIT_D/CF/project/30_11_new/small_data_attri1/test/'\n",
    "def create_folders(data):\n",
    "    \n",
    "    print \"Total Images : \"+str(data.shape[0])\n",
    "    global dest_dir\n",
    "    for i in data.index:\n",
    "        label = data.iloc[i]['label']\n",
    "        src = img_path+data.iloc[i]['path']\n",
    "        \n",
    "#         if not os.path.exists(dest_dir+label):\n",
    "#             os.makedirs(dest_dir+label)\n",
    "        copyfile(src, dest_dir+label+'/'+data.iloc[i]['path'].split('/')[-2]+'_'+data.iloc[i]['path'].split('/')[-1])\n",
    "        if i%1000==0:\n",
    "            print i\n",
    "    \n",
    "create_folders(test)    "
   ]
  },
  {
   "cell_type": "code",
   "execution_count": 35,
   "metadata": {
    "collapsed": false,
    "deletable": true,
    "editable": true
   },
   "outputs": [
    {
     "name": "stdout",
     "output_type": "stream",
     "text": [
      "Total Images : 26223\n",
      "0\n",
      "1000\n",
      "2000\n",
      "3000\n",
      "4000\n",
      "5000\n",
      "6000\n",
      "7000\n",
      "8000\n",
      "9000\n",
      "10000\n",
      "11000\n",
      "12000\n",
      "13000\n",
      "14000\n",
      "15000\n",
      "16000\n",
      "17000\n",
      "18000\n",
      "19000\n",
      "20000\n",
      "21000\n",
      "22000\n",
      "23000\n",
      "24000\n",
      "25000\n",
      "26000\n"
     ]
    }
   ],
   "source": [
    "#-----------CREATE DICRETORIES AND SAVE DATA ----------------------------\n",
    "# dest_dir = '/media/mint/New Volume/3_semester_IIIT_D/CF/project/small_data_attri1/val/\n",
    "dest_dir = '/media/mint/New Volume/3_semester_IIIT_D/CF/project/30_11_new/small_data_attri1/val/'\n",
    "def create_folders(data):\n",
    "    \n",
    "    print \"Total Images : \"+str(data.shape[0])\n",
    "    global dest_dir\n",
    "    for i in data.index:\n",
    "        label = data.iloc[i]['label']\n",
    "        src = img_path+data.iloc[i]['path']\n",
    "        \n",
    "#         if not os.path.exists(dest_dir+label):\n",
    "#             os.makedirs(dest_dir+label)\n",
    "            \n",
    "        copyfile(src, dest_dir+label+'/'+data.iloc[i]['path'].split('/')[-2]+'_'+data.iloc[i]['path'].split('/')[-1])\n",
    "        if i%1000==0:\n",
    "            print i\n",
    "    \n",
    "create_folders(val)    "
   ]
  }
 ],
 "metadata": {
  "kernelspec": {
   "display_name": "Python 2",
   "language": "python",
   "name": "python2"
  },
  "language_info": {
   "codemirror_mode": {
    "name": "ipython",
    "version": 2
   },
   "file_extension": ".py",
   "mimetype": "text/x-python",
   "name": "python",
   "nbconvert_exporter": "python",
   "pygments_lexer": "ipython2",
   "version": "2.7.15"
  }
 },
 "nbformat": 4,
 "nbformat_minor": 2
}
