{
 "cells": [
  {
   "cell_type": "raw",
   "metadata": {
    "deletable": true,
    "editable": true
   },
   "source": [
    "(1) Using only Category(50 [1,2,3]) and Attributes(1000 - [1,2,3,4,5])"
   ]
  },
  {
   "cell_type": "code",
   "execution_count": null,
   "metadata": {
    "collapsed": true,
    "deletable": true,
    "editable": true
   },
   "outputs": [],
   "source": [
    "import pandas as pd\n",
    "from matplotlib import pyplot as plt\n",
    "import glob\n",
    "from collections import Counter,defaultdict\n",
    "import matplotlib.image as mpimg\n",
    "from IPython.display import clear_output\n",
    "import time\n",
    "import warnings\n",
    "warnings.filterwarnings('ignore')\n",
    "from  sklearn.model_selection import train_test_split\n",
    "import sys,os\n",
    "from shutil import copyfile\n",
    "import numpy as np\n",
    "os.environ['CUDA_VISIBLE_DEVICES'] = ''\n",
    "\n"
   ]
  },
  {
   "cell_type": "code",
   "execution_count": null,
   "metadata": {
    "collapsed": true,
    "deletable": true,
    "editable": true
   },
   "outputs": [],
   "source": [
    "attribute_img_path = '/media/mint/New Volume/3_semester_IIIT_D/CF/project/Category and Attribute/Anno/list_attr_img.txt'\n",
    "attribute_cloth_path = '/media/mint/New Volume/3_semester_IIIT_D/CF/project/Category and Attribute/Anno/list_attr_cloth.txt'\n",
    "img_path = '/media/mint/New Volume/3_semester_IIIT_D/CF/project/Category and Attribute/img/'"
   ]
  },
  {
   "cell_type": "code",
   "execution_count": null,
   "metadata": {
    "collapsed": false,
    "deletable": true,
    "editable": true
   },
   "outputs": [],
   "source": [
    "# attribute_img = pd.read_csv(attribute_img_path,delim_whitespace=True)\n",
    "attribute_cloth = pd.read_csv(attribute_cloth_path, sep=\"\\s\\s+\") # columns = ['attribute_name', 'attribute_type'])"
   ]
  },
  {
   "cell_type": "markdown",
   "metadata": {
    "deletable": true,
    "editable": true
   },
   "source": [
    "# reading attribute_img_path chunksize wise"
   ]
  },
  {
   "cell_type": "code",
   "execution_count": null,
   "metadata": {
    "collapsed": false,
    "deletable": true,
    "editable": true
   },
   "outputs": [],
   "source": [
    "chunksize = 10 ** 4\n",
    "attribute_type = 2\n",
    "\n",
    "# print chunksize\n",
    "# attribute_img = 0\n",
    "dd = []\n",
    "for chunk in pd.read_csv(attribute_img_path, sep=\"\\s\\s\\s+\", chunksize=chunksize):\n",
    "    attribute_img = chunk\n",
    "    \n",
    "    for i in attribute_img['attribute_labels']:\n",
    "        if type(i) == str:\n",
    "\n",
    "            ll = i.split()\n",
    "            ll = np.array(ll)\n",
    "            pos = np.where(ll == '1')[0]\n",
    "            for j in pos:\n",
    "                if attribute_cloth.iloc[j]['attribute_type'] == attribute_type: \n",
    "                    dd.append(j+1)\n",
    "dist = Counter(dd)\n",
    "# print dist\n",
    "print dist"
   ]
  },
  {
   "cell_type": "code",
   "execution_count": 5,
   "metadata": {
    "collapsed": false,
    "deletable": true,
    "editable": true
   },
   "outputs": [
    {
     "name": "stdout",
     "output_type": "stream",
     "text": [
      "289222\n"
     ]
    }
   ],
   "source": [
    "chunksize = 10 ** 4\n",
    "\n",
    "image_name = []\n",
    "for chunk in pd.read_csv(attribute_img_path, sep=\"\\s\\s\\s+\", chunksize=chunksize):\n",
    "    attribute_img = chunk\n",
    "    \n",
    "    for i in attribute_img['image_name']:\n",
    "        image_name.append(i)\n",
    "        \n",
    "print len(image_name)"
   ]
  },
  {
   "cell_type": "code",
   "execution_count": 6,
   "metadata": {
    "collapsed": false,
    "deletable": true,
    "editable": true
   },
   "outputs": [
    {
     "name": "stdout",
     "output_type": "stream",
     "text": [
      "img/Sheer_Pleated-Front_Blouse/img_00000001.jpg\n",
      "img/Sheer_Pleated-Front_Blouse/img_00000002.jpg\n"
     ]
    }
   ],
   "source": [
    "print image_name[0]\n",
    "print image_name[1]"
   ]
  },
  {
   "cell_type": "code",
   "execution_count": 7,
   "metadata": {
    "collapsed": false,
    "deletable": true,
    "editable": true
   },
   "outputs": [
    {
     "name": "stdout",
     "output_type": "stream",
     "text": [
      "\n",
      "done\n",
      "defaultdict(None, {768: 2, 514: 2, 515: 2, 517: 2, 520: 2, 521: 2, 522: 2, 525: 2, 526: 2, 15: 2, 16: 2, 771: 2, 533: 2, 22: 2, 537: 2, 543: 2, 544: 2, 717: 2, 547: 2, 550: 2, 689: 2, 553: 2, 557: 2, 560: 2, 50: 2, 51: 2, 52: 2, 54: 2, 58: 2, 574: 2, 575: 2, 576: 2, 609: 2, 77: 2, 78: 2, 79: 2, 602: 2, 603: 2, 604: 2, 605: 2, 607: 2, 528: 2, 104: 2, 619: 2, 620: 2, 109: 2, 839: 2, 116: 2, 117: 2, 118: 2, 128: 2, 134: 2, 135: 2, 650: 2, 139: 2, 652: 2, 653: 2, 143: 2, 145: 2, 146: 2, 660: 2, 662: 2, 151: 2, 154: 2, 155: 2, 156: 2, 670: 2, 671: 2, 675: 2, 164: 2, 710: 2, 167: 2, 169: 2, 711: 2, 174: 2, 175: 2, 176: 2, 177: 2, 178: 2, 180: 2, 694: 2, 695: 2, 701: 2, 703: 2, 196: 2, 197: 2, 198: 2, 199: 2, 200: 2, 714: 2, 715: 2, 205: 2, 718: 2, 207: 2, 720: 2, 210: 2, 213: 2, 726: 2, 215: 2, 218: 2, 219: 2, 221: 2, 222: 2, 225: 2, 226: 2, 233: 2, 722: 2, 750: 2, 241: 2, 690: 2, 248: 2, 255: 2, 256: 2, 769: 2, 770: 2, 259: 2, 261: 2, 775: 2, 267: 2, 268: 2, 269: 2, 813: 2, 786: 2, 787: 2, 789: 2, 797: 2, 798: 2, 803: 2, 806: 2, 807: 2, 809: 2, 811: 2, 812: 2, 301: 2, 814: 2, 733: 2, 817: 2, 306: 2, 819: 2, 820: 2, 734: 2, 310: 2, 311: 2, 314: 2, 827: 2, 316: 2, 318: 2, 321: 2, 322: 2, 651: 2, 836: 2, 822: 2, 326: 2, 327: 2, 328: 2, 329: 2, 331: 2, 332: 2, 333: 2, 336: 2, 337: 2, 338: 2, 347: 2, 348: 2, 350: 2, 874: 2, 875: 2, 876: 2, 368: 2, 369: 2, 882: 2, 883: 2, 374: 2, 890: 2, 892: 2, 773: 2, 907: 2, 908: 2, 749: 2, 912: 2, 914: 2, 915: 2, 405: 2, 918: 2, 408: 2, 921: 2, 410: 2, 411: 2, 922: 2, 416: 2, 417: 2, 418: 2, 424: 2, 427: 2, 428: 2, 944: 2, 434: 2, 435: 2, 948: 2, 949: 2, 440: 2, 441: 2, 961: 2, 962: 2, 454: 2, 455: 2, 968: 2, 844: 2, 970: 2, 971: 2, 461: 2, 845: 2, 984: 2, 483: 2, 496: 2, 497: 2, 859: 2, 709: 2})\n"
     ]
    }
   ],
   "source": [
    "## root class distribution\n",
    "import numpy as np\n",
    "\n",
    "## convert 50 class to their names\n",
    "order_map = {}\n",
    "for i in attribute_cloth.index:\n",
    "    if attribute_cloth.iloc[i]['attribute_type'] == attribute_type: \n",
    "        order_map[i+1] = attribute_cloth.iloc[i]['attribute_name']\n",
    "\n",
    "    \n",
    "# print order_map\n",
    "print \n",
    "#   distribution\n",
    "attribute_cloth_map = defaultdict()\n",
    "    \n",
    "for i in attribute_cloth.index:\n",
    "    if attribute_cloth.iloc[i]['attribute_type'] == attribute_type: \n",
    "        attribute_cloth_map[i+1] = attribute_cloth.loc[i]['attribute_type']\n",
    "    \n",
    "print 'done'\n",
    "print attribute_cloth_map\n",
    "# right above it\n",
    "    \n",
    "class50_map = {}\n"
   ]
  },
  {
   "cell_type": "markdown",
   "metadata": {
    "deletable": true,
    "editable": true
   },
   "source": [
    "## DATASET PREPARATION : FILTERING MINORITY CLASSES"
   ]
  },
  {
   "cell_type": "code",
   "execution_count": 8,
   "metadata": {
    "collapsed": false,
    "deletable": true,
    "editable": true
   },
   "outputs": [
    {
     "name": "stdout",
     "output_type": "stream",
     "text": [
      "done\n",
      "289222\n"
     ]
    }
   ],
   "source": [
    "## ===========      CREATE A DATAFRAME OF IMAGE PATH AND ITS LABELS   =====================\n",
    "image_path = []\n",
    "image_label = []\n",
    "# print attribute_img.iloc[0]['attribute_labels']\n",
    "loc = 0\n",
    "for chunk in pd.read_csv(attribute_img_path, sep=\"\\s\\s\\s+\", chunksize=chunksize):\n",
    "    attribute_img = chunk\n",
    "    \n",
    "    \n",
    "    for i in attribute_img['attribute_labels']:\n",
    "        if type(i) == str:\n",
    "\n",
    "            ll = i.split()\n",
    "            ll = np.array(ll)\n",
    "            pos = np.where(ll == '1')[0]\n",
    "            for j in pos:\n",
    "                if attribute_cloth.iloc[j]['attribute_type'] == attribute_type:\n",
    "                    if dist[j+1]>=8987:\n",
    "                        #print 'hi'\n",
    "                        #print image_name[pos]\n",
    "                        image_path.append(image_name[loc])#attribute_img.iloc[i]['image_name'])\n",
    "                        image_label.append(order_map[j+1])\n",
    "                        #class50_map[ attribute_img.iloc[i]['image_name']] = order_map[j]\n",
    "                #dd.append(j+1)\n",
    "        loc += 1\n",
    "            \n",
    "\n",
    "print 'done'\n",
    "print loc"
   ]
  },
  {
   "cell_type": "code",
   "execution_count": 9,
   "metadata": {
    "collapsed": false,
    "deletable": true,
    "editable": true
   },
   "outputs": [
    {
     "name": "stdout",
     "output_type": "stream",
     "text": [
      "DATASET CLASS DISTRIBUTION\n",
      "\n",
      "n_classes : 5\n",
      "Counter({'lace': 20432, 'knit': 18496, 'denim': 13162, 'chiffon': 11734, 'crochet': 8987})\n"
     ]
    }
   ],
   "source": [
    "df = pd.DataFrame({'path':image_path,'label':image_label})\n",
    "df.to_csv('dataset.csv')\n",
    "\n",
    "print \"DATASET CLASS DISTRIBUTION\\n\"\n",
    "print \"n_classes : \"+str(len(Counter(df['label'])))\n",
    "print Counter(df['label'])"
   ]
  },
  {
   "cell_type": "markdown",
   "metadata": {
    "deletable": true,
    "editable": true
   },
   "source": [
    "# TOP-5 ATTRIBUTE VISUALISATION"
   ]
  },
  {
   "cell_type": "code",
   "execution_count": 33,
   "metadata": {
    "collapsed": false,
    "deletable": true,
    "editable": true
   },
   "outputs": [
    {
     "data": {
      "image/png": "[encoded data removed]",
      "text/plain": [
       "<matplotlib.figure.Figure at 0x7fb46b74b550>"
      ]
     },
     "metadata": {},
     "output_type": "display_data"
    }
   ],
   "source": [
    "import seaborn as sb\n",
    "\n",
    "# gen_order = df['label'].value_count().index\n",
    "sb.countplot(data=df, x='label', color='blue')\n",
    "# plt.bar(df, label=df['label'], color='blue')\n",
    "# plt.legend()\n",
    "plt.ylabel('#IMAGES')\n",
    "plt.xticks(rotation=45)\n",
    "plt.title('Top-5 class of FABRIC')\n",
    "plt.savefig('fabric.png')\n",
    "plt.show()"
   ]
  },
  {
   "cell_type": "code",
   "execution_count": 10,
   "metadata": {
    "collapsed": false,
    "deletable": true,
    "editable": true
   },
   "outputs": [
    {
     "data": {
      "text/html": [
       "<div>\n",
       "<style scoped>\n",
       "    .dataframe tbody tr th:only-of-type {\n",
       "        vertical-align: middle;\n",
       "    }\n",
       "\n",
       "    .dataframe tbody tr th {\n",
       "        vertical-align: top;\n",
       "    }\n",
       "\n",
       "    .dataframe thead th {\n",
       "        text-align: right;\n",
       "    }\n",
       "</style>\n",
       "<table border=\"1\" class=\"dataframe\">\n",
       "  <thead>\n",
       "    <tr style=\"text-align: right;\">\n",
       "      <th></th>\n",
       "      <th>label</th>\n",
       "      <th>path</th>\n",
       "    </tr>\n",
       "  </thead>\n",
       "  <tbody>\n",
       "    <tr>\n",
       "      <th>0</th>\n",
       "      <td>pleated</td>\n",
       "      <td>img/Sheer_Pleated-Front_Blouse/img_00000001.jpg</td>\n",
       "    </tr>\n",
       "    <tr>\n",
       "      <th>1</th>\n",
       "      <td>pleated</td>\n",
       "      <td>img/Sheer_Pleated-Front_Blouse/img_00000002.jpg</td>\n",
       "    </tr>\n",
       "    <tr>\n",
       "      <th>2</th>\n",
       "      <td>pleated</td>\n",
       "      <td>img/Sheer_Pleated-Front_Blouse/img_00000003.jpg</td>\n",
       "    </tr>\n",
       "  </tbody>\n",
       "</table>\n",
       "</div>"
      ],
      "text/plain": [
       "     label                                             path\n",
       "0  pleated  img/Sheer_Pleated-Front_Blouse/img_00000001.jpg\n",
       "1  pleated  img/Sheer_Pleated-Front_Blouse/img_00000002.jpg\n",
       "2  pleated  img/Sheer_Pleated-Front_Blouse/img_00000003.jpg"
      ]
     },
     "execution_count": 10,
     "metadata": {},
     "output_type": "execute_result"
    }
   ],
   "source": [
    "df.head(3)"
   ]
  },
  {
   "cell_type": "markdown",
   "metadata": {
    "deletable": true,
    "editable": true
   },
   "source": [
    "# CLASS BALANCE"
   ]
  },
  {
   "cell_type": "code",
   "execution_count": 16,
   "metadata": {
    "collapsed": false,
    "deletable": true,
    "editable": true
   },
   "outputs": [
    {
     "data": {
      "text/plain": [
       "Counter({'chiffon': 8000,\n",
       "         'crochet': 8000,\n",
       "         'denim': 8000,\n",
       "         'knit': 8000,\n",
       "         'lace': 8000})"
      ]
     },
     "execution_count": 16,
     "metadata": {},
     "output_type": "execute_result"
    }
   ],
   "source": [
    "## balance classes\n",
    "UPPER_LIMIT = 8000#9000\n",
    "\n",
    "count_dict = defaultdict(lambda : 0)\n",
    "\n",
    "labels =[]\n",
    "paths =[]\n",
    "\n",
    "for i,l in enumerate(image_label):\n",
    "    if l=='lace' or l =='knit' or l =='denim' or l=='chiffon' or l=='crochet':\n",
    "        if count_dict[l] < UPPER_LIMIT:\n",
    "            labels.append(image_label[i])\n",
    "            paths.append(image_path[i])\n",
    "    count_dict[l]+=1\n",
    "    \n",
    "df = pd.DataFrame({'path':paths,'label':labels})\n",
    "Counter(df['label'])"
   ]
  },
  {
   "cell_type": "code",
   "execution_count": 17,
   "metadata": {
    "collapsed": false,
    "deletable": true,
    "editable": true
   },
   "outputs": [
    {
     "name": "stdout",
     "output_type": "stream",
     "text": [
      "TRAIN data size \n",
      "(40, 2)\n",
      "TEST and VALIDATION data size  \n",
      "(39960, 2)\n"
     ]
    }
   ],
   "source": [
    "## PREPARE   TRAIN , TEST , VALIDATION :STRATIFIED\n",
    "TEST_SIZE = 0.999\n",
    "\n",
    "X_train, X_test, y_train, y_test = train_test_split(df['path'], df['label'],stratify=df['label'], test_size=TEST_SIZE)\n",
    "\n",
    "train = pd.DataFrame({'path':X_train,'label':y_train})\n",
    "test_data = pd.DataFrame({'path':X_test,'label':y_test})\n",
    "\n",
    "# clear variables\n",
    "\n",
    "del X_train, X_test, y_train, y_test\n",
    "print \"TRAIN data size \"\n",
    "print train.shape\n",
    "\n",
    "print \"TEST and VALIDATION data size  \"\n",
    "print test_data.shape\n",
    "\n",
    "X_val, X_test, y_val, y_test = train_test_split(test_data['path'], test_data['label'],stratify=test_data['label'], test_size=0.25)\n",
    "\n",
    "val = pd.DataFrame({'path':X_val,'label':y_val})\n",
    "test = pd.DataFrame({'path':X_test,'label':y_test})\n",
    "\n",
    "# clear variables\n",
    "\n",
    "del X_val, X_test, y_val, y_test,df\n",
    "\n",
    "Counter(test['label'])\n",
    "\n",
    "\n",
    "#  ====== DROP INDEXES ============\n",
    "\n",
    "\n",
    "val = val.reset_index(drop=True)\n",
    "test = test.reset_index(drop=True)"
   ]
  },
  {
   "cell_type": "code",
   "execution_count": 18,
   "metadata": {
    "collapsed": false,
    "deletable": true,
    "editable": true
   },
   "outputs": [
    {
     "name": "stdout",
     "output_type": "stream",
     "text": [
      "9990\n",
      "29970\n"
     ]
    }
   ],
   "source": [
    "print sum(Counter(test['label']).values())\n",
    "print sum(Counter(val['label']).values())"
   ]
  },
  {
   "cell_type": "code",
   "execution_count": 13,
   "metadata": {
    "collapsed": false,
    "deletable": true,
    "editable": true
   },
   "outputs": [
    {
     "data": {
      "text/html": [
       "<div>\n",
       "<style scoped>\n",
       "    .dataframe tbody tr th:only-of-type {\n",
       "        vertical-align: middle;\n",
       "    }\n",
       "\n",
       "    .dataframe tbody tr th {\n",
       "        vertical-align: top;\n",
       "    }\n",
       "\n",
       "    .dataframe thead th {\n",
       "        text-align: right;\n",
       "    }\n",
       "</style>\n",
       "<table border=\"1\" class=\"dataframe\">\n",
       "  <thead>\n",
       "    <tr style=\"text-align: right;\">\n",
       "      <th></th>\n",
       "      <th>label</th>\n",
       "      <th>path</th>\n",
       "    </tr>\n",
       "  </thead>\n",
       "  <tbody>\n",
       "    <tr>\n",
       "      <th>0</th>\n",
       "      <td>lace</td>\n",
       "      <td>img/Boxy_Medallion_Print_Top/img_00000027.jpg</td>\n",
       "    </tr>\n",
       "    <tr>\n",
       "      <th>1</th>\n",
       "      <td>lace</td>\n",
       "      <td>img/Frayed_Denim_Shorts/img_00000008.jpg</td>\n",
       "    </tr>\n",
       "    <tr>\n",
       "      <th>2</th>\n",
       "      <td>lace</td>\n",
       "      <td>img/Victorian_Lace_Skirt/img_00000014.jpg</td>\n",
       "    </tr>\n",
       "    <tr>\n",
       "      <th>3</th>\n",
       "      <td>denim</td>\n",
       "      <td>img/Pleated_Floral_Print_Blouse/img_00000055.jpg</td>\n",
       "    </tr>\n",
       "    <tr>\n",
       "      <th>4</th>\n",
       "      <td>lace</td>\n",
       "      <td>img/Lace-Back_Henley_Tank/img_00000017.jpg</td>\n",
       "    </tr>\n",
       "  </tbody>\n",
       "</table>\n",
       "</div>"
      ],
      "text/plain": [
       "   label                                              path\n",
       "0   lace     img/Boxy_Medallion_Print_Top/img_00000027.jpg\n",
       "1   lace          img/Frayed_Denim_Shorts/img_00000008.jpg\n",
       "2   lace         img/Victorian_Lace_Skirt/img_00000014.jpg\n",
       "3  denim  img/Pleated_Floral_Print_Blouse/img_00000055.jpg\n",
       "4   lace        img/Lace-Back_Henley_Tank/img_00000017.jpg"
      ]
     },
     "execution_count": 13,
     "metadata": {},
     "output_type": "execute_result"
    }
   ],
   "source": [
    "val.head()"
   ]
  },
  {
   "cell_type": "code",
   "execution_count": 14,
   "metadata": {
    "collapsed": false,
    "deletable": true,
    "editable": true
   },
   "outputs": [
    {
     "data": {
      "text/html": [
       "<div>\n",
       "<style scoped>\n",
       "    .dataframe tbody tr th:only-of-type {\n",
       "        vertical-align: middle;\n",
       "    }\n",
       "\n",
       "    .dataframe tbody tr th {\n",
       "        vertical-align: top;\n",
       "    }\n",
       "\n",
       "    .dataframe thead th {\n",
       "        text-align: right;\n",
       "    }\n",
       "</style>\n",
       "<table border=\"1\" class=\"dataframe\">\n",
       "  <thead>\n",
       "    <tr style=\"text-align: right;\">\n",
       "      <th></th>\n",
       "      <th>label</th>\n",
       "      <th>path</th>\n",
       "    </tr>\n",
       "  </thead>\n",
       "  <tbody>\n",
       "    <tr>\n",
       "      <th>0</th>\n",
       "      <td>crochet</td>\n",
       "      <td>img/Swiss_Dot_Crochet_Tank/img_00000041.jpg</td>\n",
       "    </tr>\n",
       "    <tr>\n",
       "      <th>1</th>\n",
       "      <td>knit</td>\n",
       "      <td>img/Distressed_Slub_Knit_Tank/img_00000017.jpg</td>\n",
       "    </tr>\n",
       "    <tr>\n",
       "      <th>2</th>\n",
       "      <td>lace</td>\n",
       "      <td>img/Floral_Crochet_Tank/img_00000021.jpg</td>\n",
       "    </tr>\n",
       "    <tr>\n",
       "      <th>3</th>\n",
       "      <td>chiffon</td>\n",
       "      <td>img/Ruffled_Crepe_Woven_Blouse/img_00000006.jpg</td>\n",
       "    </tr>\n",
       "    <tr>\n",
       "      <th>4</th>\n",
       "      <td>lace</td>\n",
       "      <td>img/Leopard_Print_Skater_Skirt/img_00000028.jpg</td>\n",
       "    </tr>\n",
       "  </tbody>\n",
       "</table>\n",
       "</div>"
      ],
      "text/plain": [
       "     label                                             path\n",
       "0  crochet      img/Swiss_Dot_Crochet_Tank/img_00000041.jpg\n",
       "1     knit   img/Distressed_Slub_Knit_Tank/img_00000017.jpg\n",
       "2     lace         img/Floral_Crochet_Tank/img_00000021.jpg\n",
       "3  chiffon  img/Ruffled_Crepe_Woven_Blouse/img_00000006.jpg\n",
       "4     lace  img/Leopard_Print_Skater_Skirt/img_00000028.jpg"
      ]
     },
     "execution_count": 14,
     "metadata": {},
     "output_type": "execute_result"
    }
   ],
   "source": [
    "test.head()"
   ]
  },
  {
   "cell_type": "code",
   "execution_count": 19,
   "metadata": {
    "collapsed": false,
    "deletable": true,
    "editable": true
   },
   "outputs": [
    {
     "name": "stdout",
     "output_type": "stream",
     "text": [
      "Total Images : 9990\n",
      "0\n",
      "1000\n",
      "2000\n",
      "3000\n",
      "4000\n",
      "5000\n",
      "6000\n",
      "7000\n",
      "8000\n",
      "9000\n"
     ]
    }
   ],
   "source": [
    "## create directories and save data\n",
    "# dest_dir = '/media/mint/New Volume/3_semester_IIIT_D/CF/project/small_data_attri2/test/'\n",
    "dest_dir = '/media/mint/New Volume/3_semester_IIIT_D/CF/project/30_11_new/small_data_attri2/test/'\n",
    "\n",
    "def create_folders(data):\n",
    "    \n",
    "    print \"Total Images : \"+str(data.shape[0])\n",
    "    global dest_dir\n",
    "    for i in data.index:\n",
    "        label = data.iloc[i]['label']\n",
    "        #print label\n",
    "        src = img_path+data.iloc[i]['path']\n",
    "        #print src\n",
    "        #print dest_dir+'/'+label\n",
    "        #break\n",
    "        \n",
    "#         if not os.path.exists(dest_dir+label):\n",
    "#             os.makedirs(dest_dir+label)\n",
    "            \n",
    "        copyfile(src, dest_dir+label+'/'+data.iloc[i]['path'].split('/')[-2]+'_'+data.iloc[i]['path'].split('/')[-1])\n",
    "        if i%1000==0:\n",
    "            print i\n",
    "    \n",
    "create_folders(test)    "
   ]
  },
  {
   "cell_type": "code",
   "execution_count": 20,
   "metadata": {
    "collapsed": false,
    "deletable": true,
    "editable": true
   },
   "outputs": [
    {
     "name": "stdout",
     "output_type": "stream",
     "text": [
      "Total Images : 29970\n",
      "0\n",
      "1000\n",
      "2000\n",
      "3000\n",
      "4000\n",
      "5000\n",
      "6000\n",
      "7000\n",
      "8000\n",
      "9000\n",
      "10000\n",
      "11000\n",
      "12000\n",
      "13000\n",
      "14000\n",
      "15000\n",
      "16000\n",
      "17000\n",
      "18000\n",
      "19000\n",
      "20000\n",
      "21000\n",
      "22000\n",
      "23000\n",
      "24000\n",
      "25000\n",
      "26000\n",
      "27000\n",
      "28000\n",
      "29000\n"
     ]
    }
   ],
   "source": [
    "## create directories and save data\n",
    "# dest_dir = '/media/mint/New Volume/3_semester_IIIT_D/CF/project/small_data_attri2/val/'\n",
    "dest_dir = '/media/mint/New Volume/3_semester_IIIT_D/CF/project/30_11_new/small_data_attri2/val/'\n",
    "\n",
    "def create_folders(data):\n",
    "    \n",
    "    print \"Total Images : \"+str(data.shape[0])\n",
    "    global dest_dir\n",
    "    for i in data.index:\n",
    "        label = data.iloc[i]['label']\n",
    "        src = img_path+data.iloc[i]['path']\n",
    "        \n",
    "#         if not os.path.exists(dest_dir+label):\n",
    "#             os.makedirs(dest_dir+label)\n",
    "            \n",
    "        copyfile(src, dest_dir+label+'/'+data.iloc[i]['path'].split('/')[-2]+'_'+data.iloc[i]['path'].split('/')[-1])\n",
    "        if i%1000==0:\n",
    "            print i\n",
    "    \n",
    "create_folders(val)    "
   ]
  },
  {
   "cell_type": "code",
   "execution_count": 15,
   "metadata": {
    "collapsed": true,
    "deletable": true,
    "editable": true
   },
   "outputs": [],
   "source": [
    "N_CLASSES = 5"
   ]
  }
 ],
 "metadata": {
  "kernelspec": {
   "display_name": "Python 2",
   "language": "python",
   "name": "python2"
  },
  "language_info": {
   "codemirror_mode": {
    "name": "ipython",
    "version": 2
   },
   "file_extension": ".py",
   "mimetype": "text/x-python",
   "name": "python",
   "nbconvert_exporter": "python",
   "pygments_lexer": "ipython2",
   "version": "2.7.15"
  }
 },
 "nbformat": 4,
 "nbformat_minor": 2
}
