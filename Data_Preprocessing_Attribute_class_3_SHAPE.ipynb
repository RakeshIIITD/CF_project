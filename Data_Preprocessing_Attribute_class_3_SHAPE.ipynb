{
 "cells": [
  {
   "cell_type": "raw",
   "metadata": {
    "deletable": true,
    "editable": true
   },
   "source": [
    "(1) Using only Category(50 [1,2,3]) and Attributes(1000 - [1,2,3,4,5])"
   ]
  },
  {
   "cell_type": "code",
   "execution_count": 10,
   "metadata": {
    "collapsed": true,
    "deletable": true,
    "editable": true
   },
   "outputs": [],
   "source": [
    "import pandas as pd\n",
    "from matplotlib import pyplot as plt\n",
    "import glob\n",
    "from collections import Counter,defaultdict\n",
    "import matplotlib.image as mpimg\n",
    "from IPython.display import clear_output\n",
    "import time\n",
    "from  sklearn.model_selection import train_test_split\n",
    "import sys,os\n",
    "from shutil import copyfile\n",
    "import numpy as np\n",
    "import warnings\n",
    "warnings.filterwarnings('ignore')\n",
    "import numpy as np"
   ]
  },
  {
   "cell_type": "code",
   "execution_count": 11,
   "metadata": {
    "collapsed": true,
    "deletable": true,
    "editable": true
   },
   "outputs": [],
   "source": [
    "attribute_img_path = '/media/mint/New Volume/3_semester_IIIT_D/CF/project/Category and Attribute/Anno/list_attr_img.txt'\n",
    "attribute_cloth_path = '/media/mint/New Volume/3_semester_IIIT_D/CF/project/Category and Attribute/Anno/list_attr_cloth.txt'\n",
    "img_path = '/media/mint/New Volume/3_semester_IIIT_D/CF/project/Category and Attribute/img/'"
   ]
  },
  {
   "cell_type": "code",
   "execution_count": 12,
   "metadata": {
    "collapsed": false,
    "deletable": true,
    "editable": true
   },
   "outputs": [],
   "source": [
    "# attribute_img = pd.read_csv(attribute_img_path,delim_whitespace=True)\n",
    "attribute_cloth = pd.read_csv(attribute_cloth_path, sep=\"\\s\\s+\") # columns = ['attribute_name', 'attribute_type'])"
   ]
  },
  {
   "cell_type": "markdown",
   "metadata": {
    "deletable": true,
    "editable": true
   },
   "source": [
    "# reading attribute_img_path chunksize wise"
   ]
  },
  {
   "cell_type": "code",
   "execution_count": 13,
   "metadata": {
    "collapsed": false,
    "deletable": true,
    "editable": true
   },
   "outputs": [
    {
     "name": "stdout",
     "output_type": "stream",
     "text": [
      "Counter({597: 15989, 823: 14919, 354: 7488, 82: 6419, 227: 6220, 831: 6205, 621: 6065, 641: 5565, 832: 5212, 821: 5024, 359: 4841, 617: 4660, 122: 4150, 237: 4005, 94: 3716, 228: 3704, 699: 3684, 240: 3500, 840: 3491, 1: 3240, 818: 3201, 572: 3177, 945: 2355, 985: 2249, 698: 2228, 677: 2203, 748: 1959, 130: 1619, 776: 1505, 639: 1498, 357: 1301, 600: 1251, 71: 1233, 26: 1220, 785: 1116, 21: 1098, 39: 1094, 724: 978, 190: 925, 132: 863, 903: 852, 930: 840, 25: 833, 942: 781, 841: 716, 91: 705, 849: 675, 147: 667, 843: 638, 450: 631, 360: 629, 870: 620, 204: 615, 394: 583, 355: 524, 941: 514, 69: 487, 747: 487, 292: 479, 223: 477, 737: 470, 758: 468, 848: 443, 239: 434, 110: 432, 613: 419, 615: 419, 462: 405, 735: 404, 527: 402, 966: 398, 728: 395, 529: 385, 373: 373, 119: 369, 516: 363, 506: 363, 83: 359, 319: 353, 443: 350, 777: 338, 92: 325, 386: 319, 549: 298, 940: 287, 499: 268, 580: 259, 402: 255, 976: 252, 519: 240, 530: 240, 502: 234, 220: 232, 272: 232, 523: 226, 38: 222, 464: 221, 981: 214, 168: 210, 70: 200, 340: 196, 834: 195, 257: 193, 401: 191, 495: 188, 95: 186, 153: 180, 124: 174, 382: 166, 201: 164, 551: 163, 149: 160, 554: 157, 150: 154, 616: 148, 548: 147, 242: 131, 719: 130, 260: 130, 385: 129, 512: 126, 980: 125, 343: 123, 425: 119, 320: 112, 518: 108, 614: 108, 339: 107, 206: 106, 243: 106, 342: 104, 349: 103, 271: 102, 500: 102, 214: 99, 171: 95, 581: 94, 877: 92, 573: 89, 380: 89, 391: 86, 55: 85, 804: 84, 498: 84, 509: 81, 426: 80, 96: 75, 375: 74, 376: 74, 372: 73, 123: 71, 148: 71, 330: 70, 312: 69, 676: 68, 258: 67, 317: 66, 371: 66, 743: 65, 370: 63, 556: 62, 739: 62, 315: 59, 379: 59, 341: 58, 345: 58, 356: 58, 783: 58, 93: 57, 833: 57, 191: 56, 344: 56, 229: 55, 886: 54, 270: 53, 423: 53, 97: 52, 738: 52, 465: 52, 759: 51})\n"
     ]
    }
   ],
   "source": [
    "chunksize = 10 ** 4\n",
    "attribute_type = 3\n",
    "\n",
    "# print chunksize\n",
    "# attribute_img = 0\n",
    "dd = []\n",
    "for chunk in pd.read_csv(attribute_img_path, sep=\"\\s\\s\\s+\", chunksize=chunksize):\n",
    "    attribute_img = chunk\n",
    "    \n",
    "    for i in attribute_img['attribute_labels']:\n",
    "        if type(i) == str:\n",
    "\n",
    "            ll = i.split()\n",
    "            ll = np.array(ll)\n",
    "            pos = np.where(ll == '1')[0]\n",
    "            for j in pos:\n",
    "                if attribute_cloth.iloc[j]['attribute_type'] == attribute_type: \n",
    "                    dd.append(j+1)\n",
    "dist = Counter(dd)\n",
    "# print dist\n",
    "print dist"
   ]
  },
  {
   "cell_type": "code",
   "execution_count": 14,
   "metadata": {
    "collapsed": false,
    "deletable": true,
    "editable": true
   },
   "outputs": [
    {
     "name": "stdout",
     "output_type": "stream",
     "text": [
      "289222\n"
     ]
    }
   ],
   "source": [
    "chunksize = 10 ** 4\n",
    "\n",
    "image_name = []\n",
    "for chunk in pd.read_csv(attribute_img_path, sep=\"\\s\\s\\s+\", chunksize=chunksize):\n",
    "    attribute_img = chunk\n",
    "    \n",
    "    for i in attribute_img['image_name']:\n",
    "        image_name.append(i)\n",
    "        \n",
    "print len(image_name)"
   ]
  },
  {
   "cell_type": "code",
   "execution_count": 15,
   "metadata": {
    "collapsed": false,
    "deletable": true,
    "editable": true
   },
   "outputs": [
    {
     "name": "stdout",
     "output_type": "stream",
     "text": [
      "img/Sheer_Pleated-Front_Blouse/img_00000001.jpg\n",
      "img/Sheer_Pleated-Front_Blouse/img_00000002.jpg\n"
     ]
    }
   ],
   "source": [
    "print image_name[0]\n",
    "print image_name[1]"
   ]
  },
  {
   "cell_type": "code",
   "execution_count": 16,
   "metadata": {
    "collapsed": false,
    "deletable": true,
    "editable": true
   },
   "outputs": [
    {
     "name": "stdout",
     "output_type": "stream",
     "text": [
      "\n",
      "done\n",
      "defaultdict(None, {512: 3, 1: 3, 516: 3, 518: 3, 519: 3, 523: 3, 527: 3, 529: 3, 530: 3, 21: 3, 25: 3, 26: 3, 548: 3, 549: 3, 38: 3, 39: 3, 554: 3, 556: 3, 55: 3, 572: 3, 573: 3, 735: 3, 580: 3, 69: 3, 70: 3, 71: 3, 82: 3, 83: 3, 597: 3, 600: 3, 91: 3, 92: 3, 93: 3, 94: 3, 95: 3, 96: 3, 97: 3, 613: 3, 614: 3, 615: 3, 616: 3, 617: 3, 621: 3, 110: 3, 119: 3, 122: 3, 123: 3, 124: 3, 639: 3, 641: 3, 130: 3, 132: 3, 147: 3, 148: 3, 149: 3, 150: 3, 153: 3, 676: 3, 677: 3, 168: 3, 171: 3, 739: 3, 698: 3, 699: 3, 190: 3, 191: 3, 201: 3, 204: 3, 206: 3, 719: 3, 724: 3, 214: 3, 728: 3, 804: 3, 220: 3, 223: 3, 737: 3, 738: 3, 227: 3, 228: 3, 229: 3, 743: 3, 976: 3, 551: 3, 748: 3, 237: 3, 239: 3, 240: 3, 242: 3, 243: 3, 758: 3, 759: 3, 257: 3, 258: 3, 260: 3, 776: 3, 777: 3, 270: 3, 271: 3, 272: 3, 785: 3, 292: 3, 903: 3, 818: 3, 821: 3, 823: 3, 312: 3, 315: 3, 317: 3, 319: 3, 320: 3, 833: 3, 834: 3, 840: 3, 841: 3, 330: 3, 843: 3, 848: 3, 849: 3, 339: 3, 340: 3, 341: 3, 342: 3, 343: 3, 344: 3, 345: 3, 349: 3, 354: 3, 355: 3, 356: 3, 357: 3, 870: 3, 359: 3, 360: 3, 877: 3, 370: 3, 371: 3, 372: 3, 373: 3, 886: 3, 375: 3, 376: 3, 379: 3, 380: 3, 382: 3, 385: 3, 386: 3, 747: 3, 831: 3, 391: 3, 394: 3, 401: 3, 402: 3, 581: 3, 832: 3, 930: 3, 423: 3, 425: 3, 426: 3, 940: 3, 941: 3, 942: 3, 945: 3, 443: 3, 450: 3, 966: 3, 462: 3, 464: 3, 465: 3, 980: 3, 981: 3, 985: 3, 783: 3, 495: 3, 498: 3, 499: 3, 500: 3, 502: 3, 506: 3, 509: 3})\n"
     ]
    }
   ],
   "source": [
    "## root class distribution\n",
    "import numpy as np\n",
    "\n",
    "## convert 50 class to their names\n",
    "order_map = {}\n",
    "for i in attribute_cloth.index:\n",
    "    if attribute_cloth.iloc[i]['attribute_type'] == attribute_type: \n",
    "        order_map[i+1] = attribute_cloth.iloc[i]['attribute_name']\n",
    "\n",
    "    \n",
    "# print order_map\n",
    "print \n",
    "#   distribution\n",
    "attribute_cloth_map = defaultdict()\n",
    "    \n",
    "for i in attribute_cloth.index:\n",
    "    if attribute_cloth.iloc[i]['attribute_type'] == attribute_type: \n",
    "        attribute_cloth_map[i+1] = attribute_cloth.loc[i]['attribute_type']\n",
    "    \n",
    "print 'done'\n",
    "print attribute_cloth_map\n",
    "# right above it\n",
    "    \n",
    "class50_map = {}\n"
   ]
  },
  {
   "cell_type": "markdown",
   "metadata": {
    "deletable": true,
    "editable": true
   },
   "source": [
    "## DATASET PREPARATION : FILTERING MINORITY CLASSES"
   ]
  },
  {
   "cell_type": "code",
   "execution_count": 17,
   "metadata": {
    "collapsed": false,
    "deletable": true,
    "editable": true
   },
   "outputs": [
    {
     "name": "stdout",
     "output_type": "stream",
     "text": [
      "done\n",
      "289222\n"
     ]
    }
   ],
   "source": [
    "## ===========      CREATE A DATAFRAME OF IMAGE PATH AND ITS LABELS   =====================\n",
    "image_path = []\n",
    "image_label = []\n",
    "# print attribute_img.iloc[0]['attribute_labels']\n",
    "loc = 0\n",
    "for chunk in pd.read_csv(attribute_img_path, sep=\"\\s\\s\\s+\", chunksize=chunksize):\n",
    "    attribute_img = chunk\n",
    "    \n",
    "    \n",
    "    for i in attribute_img['attribute_labels']:\n",
    "        if type(i) == str:\n",
    "\n",
    "            ll = i.split()\n",
    "            ll = np.array(ll)\n",
    "            pos = np.where(ll == '1')[0]\n",
    "            for j in pos:\n",
    "                if attribute_cloth.iloc[j]['attribute_type'] == attribute_type:\n",
    "                    if dist[j+1]>=6220:   # change here for number of classes\n",
    "                        #print 'hi'\n",
    "                        #print image_name[pos]\n",
    "                        image_path.append(image_name[loc])#attribute_img.iloc[i]['image_name'])\n",
    "                        image_label.append(order_map[j+1])\n",
    "                        #class50_map[ attribute_img.iloc[i]['image_name']] = order_map[j]\n",
    "                #dd.append(j+1)\n",
    "        loc += 1\n",
    "            \n",
    "\n",
    "print 'done'\n",
    "print loc"
   ]
  },
  {
   "cell_type": "code",
   "execution_count": 18,
   "metadata": {
    "collapsed": false,
    "deletable": true,
    "editable": true
   },
   "outputs": [
    {
     "name": "stdout",
     "output_type": "stream",
     "text": [
      "DATASET CLASS DISTRIBUTION\n",
      "\n",
      "n_classes : 5\n",
      "Counter({'maxi': 15989, 'shirt': 14919, 'fit': 7488, 'bodycon': 6419, 'crop': 6220})\n"
     ]
    }
   ],
   "source": [
    "df = pd.DataFrame({'path':image_path,'label':image_label})\n",
    "df.to_csv('dataset.csv')\n",
    "\n",
    "print \"DATASET CLASS DISTRIBUTION\\n\"\n",
    "print \"n_classes : \"+str(len(Counter(df['label'])))\n",
    "print Counter(df['label'])"
   ]
  },
  {
   "cell_type": "markdown",
   "metadata": {
    "deletable": true,
    "editable": true
   },
   "source": [
    "# TOP 5 ATTRIBUTE VISUALISATION"
   ]
  },
  {
   "cell_type": "code",
   "execution_count": 19,
   "metadata": {
    "collapsed": false,
    "deletable": true,
    "editable": true
   },
   "outputs": [
    {
     "data": {
      "image/png": "[encoded data removed]",
      "text/plain": [
       "<matplotlib.figure.Figure at 0x7f324d579490>"
      ]
     },
     "metadata": {},
     "output_type": "display_data"
    }
   ],
   "source": [
    "import seaborn as sb\n",
    "\n",
    "# gen_order = df['label'].value_count().index\n",
    "sb.countplot(data=df, x='label', color='blue')\n",
    "# plt.bar(df, label=df['label'], color='blue')\n",
    "# plt.legend()\n",
    "plt.ylabel('#IMAGES')\n",
    "plt.xticks(rotation=45)\n",
    "plt.title('top-5 class of SHAPE')\n",
    "plt.savefig('shape.png')\n",
    "plt.show()"
   ]
  },
  {
   "cell_type": "code",
   "execution_count": 10,
   "metadata": {
    "collapsed": false,
    "deletable": true,
    "editable": true
   },
   "outputs": [
    {
     "data": {
      "text/html": [
       "<div>\n",
       "<style scoped>\n",
       "    .dataframe tbody tr th:only-of-type {\n",
       "        vertical-align: middle;\n",
       "    }\n",
       "\n",
       "    .dataframe tbody tr th {\n",
       "        vertical-align: top;\n",
       "    }\n",
       "\n",
       "    .dataframe thead th {\n",
       "        text-align: right;\n",
       "    }\n",
       "</style>\n",
       "<table border=\"1\" class=\"dataframe\">\n",
       "  <thead>\n",
       "    <tr style=\"text-align: right;\">\n",
       "      <th></th>\n",
       "      <th>label</th>\n",
       "      <th>path</th>\n",
       "    </tr>\n",
       "  </thead>\n",
       "  <tbody>\n",
       "    <tr>\n",
       "      <th>0</th>\n",
       "      <td>fit</td>\n",
       "      <td>img/Sheer_Pleated-Front_Blouse/img_00000010.jpg</td>\n",
       "    </tr>\n",
       "    <tr>\n",
       "      <th>1</th>\n",
       "      <td>shirt</td>\n",
       "      <td>img/Sheer_Pleated-Front_Blouse/img_00000013.jpg</td>\n",
       "    </tr>\n",
       "    <tr>\n",
       "      <th>2</th>\n",
       "      <td>shirt</td>\n",
       "      <td>img/Sheer_Pleated-Front_Blouse/img_00000045.jpg</td>\n",
       "    </tr>\n",
       "  </tbody>\n",
       "</table>\n",
       "</div>"
      ],
      "text/plain": [
       "   label                                             path\n",
       "0    fit  img/Sheer_Pleated-Front_Blouse/img_00000010.jpg\n",
       "1  shirt  img/Sheer_Pleated-Front_Blouse/img_00000013.jpg\n",
       "2  shirt  img/Sheer_Pleated-Front_Blouse/img_00000045.jpg"
      ]
     },
     "execution_count": 10,
     "metadata": {},
     "output_type": "execute_result"
    }
   ],
   "source": [
    "df.head(3)"
   ]
  },
  {
   "cell_type": "markdown",
   "metadata": {
    "deletable": true,
    "editable": true
   },
   "source": [
    "# CLASS BALANCE"
   ]
  },
  {
   "cell_type": "code",
   "execution_count": 11,
   "metadata": {
    "collapsed": false,
    "deletable": true,
    "editable": true
   },
   "outputs": [
    {
     "data": {
      "text/plain": [
       "Counter({'bodycon': 6000,\n",
       "         'crop': 6000,\n",
       "         'fit': 6000,\n",
       "         'maxi': 6000,\n",
       "         'shirt': 6000})"
      ]
     },
     "execution_count": 11,
     "metadata": {},
     "output_type": "execute_result"
    }
   ],
   "source": [
    "## balance classes\n",
    "UPPER_LIMIT = 6000#8000\n",
    "\n",
    "count_dict = defaultdict(lambda : 0)\n",
    "\n",
    "labels =[]\n",
    "paths =[]\n",
    "\n",
    "for i,l in enumerate(image_label):\n",
    "    if l=='maxi' or l =='shirt' or l =='fit' or l=='bodycon' or l=='crop':\n",
    "        if count_dict[l] < UPPER_LIMIT:\n",
    "            labels.append(image_label[i])\n",
    "            paths.append(image_path[i])\n",
    "    count_dict[l]+=1\n",
    "    \n",
    "df = pd.DataFrame({'path':paths,'label':labels})\n",
    "Counter(df['label'])"
   ]
  },
  {
   "cell_type": "code",
   "execution_count": 12,
   "metadata": {
    "collapsed": false,
    "deletable": true,
    "editable": true
   },
   "outputs": [
    {
     "name": "stdout",
     "output_type": "stream",
     "text": [
      "TRAIN data size \n",
      "(30, 2)\n",
      "TEST and VALIDATION data size  \n",
      "(29970, 2)\n"
     ]
    }
   ],
   "source": [
    "## PREPARE   TRAIN , TEST , VALIDATION :STRATIFIED\n",
    "TEST_SIZE = 0.999\n",
    "\n",
    "X_train, X_test, y_train, y_test = train_test_split(df['path'], df['label'],stratify=df['label'], test_size=TEST_SIZE)\n",
    "\n",
    "train = pd.DataFrame({'path':X_train,'label':y_train})\n",
    "test_data = pd.DataFrame({'path':X_test,'label':y_test})\n",
    "\n",
    "# clear variables\n",
    "\n",
    "del X_train, X_test, y_train, y_test\n",
    "print \"TRAIN data size \"\n",
    "print train.shape\n",
    "\n",
    "print \"TEST and VALIDATION data size  \"\n",
    "print test_data.shape\n",
    "\n",
    "X_val, X_test, y_val, y_test = train_test_split(test_data['path'], test_data['label'],stratify=test_data['label'], test_size=0.25)\n",
    "\n",
    "val = pd.DataFrame({'path':X_val,'label':y_val})\n",
    "test = pd.DataFrame({'path':X_test,'label':y_test})\n",
    "\n",
    "# clear variables\n",
    "\n",
    "del X_val, X_test, y_val, y_test,df\n",
    "\n",
    "Counter(test['label'])\n",
    "\n",
    "\n",
    "#  ====== DROP INDEXES ============\n",
    "\n",
    "\n",
    "val = val.reset_index(drop=True)\n",
    "test = test.reset_index(drop=True)"
   ]
  },
  {
   "cell_type": "code",
   "execution_count": 13,
   "metadata": {
    "collapsed": false,
    "deletable": true,
    "editable": true
   },
   "outputs": [
    {
     "name": "stdout",
     "output_type": "stream",
     "text": [
      "7493\n",
      "22477\n"
     ]
    }
   ],
   "source": [
    "print sum(Counter(test['label']).values())\n",
    "print sum(Counter(val['label']).values())"
   ]
  },
  {
   "cell_type": "code",
   "execution_count": 13,
   "metadata": {
    "collapsed": false,
    "deletable": true,
    "editable": true
   },
   "outputs": [
    {
     "data": {
      "text/html": [
       "<div>\n",
       "<style scoped>\n",
       "    .dataframe tbody tr th:only-of-type {\n",
       "        vertical-align: middle;\n",
       "    }\n",
       "\n",
       "    .dataframe tbody tr th {\n",
       "        vertical-align: top;\n",
       "    }\n",
       "\n",
       "    .dataframe thead th {\n",
       "        text-align: right;\n",
       "    }\n",
       "</style>\n",
       "<table border=\"1\" class=\"dataframe\">\n",
       "  <thead>\n",
       "    <tr style=\"text-align: right;\">\n",
       "      <th></th>\n",
       "      <th>label</th>\n",
       "      <th>path</th>\n",
       "    </tr>\n",
       "  </thead>\n",
       "  <tbody>\n",
       "    <tr>\n",
       "      <th>0</th>\n",
       "      <td>fit</td>\n",
       "      <td>img/Floral_Print_Drawstring_Shorts/img_0000001...</td>\n",
       "    </tr>\n",
       "    <tr>\n",
       "      <th>1</th>\n",
       "      <td>maxi</td>\n",
       "      <td>img/Crochet-Paneled_Maxi_Dress/img_00000032.jpg</td>\n",
       "    </tr>\n",
       "    <tr>\n",
       "      <th>2</th>\n",
       "      <td>fit</td>\n",
       "      <td>img/LEEF_PARIS_Abstract_Geo_Print_Tee/img_0000...</td>\n",
       "    </tr>\n",
       "    <tr>\n",
       "      <th>3</th>\n",
       "      <td>shirt</td>\n",
       "      <td>img/Dotted_Chiffon_Blouse/img_00000163.jpg</td>\n",
       "    </tr>\n",
       "    <tr>\n",
       "      <th>4</th>\n",
       "      <td>fit</td>\n",
       "      <td>img/Classic_Scoop_Neck_Top/img_00000053.jpg</td>\n",
       "    </tr>\n",
       "  </tbody>\n",
       "</table>\n",
       "</div>"
      ],
      "text/plain": [
       "   label                                               path\n",
       "0    fit  img/Floral_Print_Drawstring_Shorts/img_0000001...\n",
       "1   maxi    img/Crochet-Paneled_Maxi_Dress/img_00000032.jpg\n",
       "2    fit  img/LEEF_PARIS_Abstract_Geo_Print_Tee/img_0000...\n",
       "3  shirt         img/Dotted_Chiffon_Blouse/img_00000163.jpg\n",
       "4    fit        img/Classic_Scoop_Neck_Top/img_00000053.jpg"
      ]
     },
     "execution_count": 13,
     "metadata": {},
     "output_type": "execute_result"
    }
   ],
   "source": [
    "val.head()"
   ]
  },
  {
   "cell_type": "code",
   "execution_count": 14,
   "metadata": {
    "collapsed": false,
    "deletable": true,
    "editable": true
   },
   "outputs": [
    {
     "data": {
      "text/html": [
       "<div>\n",
       "<style scoped>\n",
       "    .dataframe tbody tr th:only-of-type {\n",
       "        vertical-align: middle;\n",
       "    }\n",
       "\n",
       "    .dataframe tbody tr th {\n",
       "        vertical-align: top;\n",
       "    }\n",
       "\n",
       "    .dataframe thead th {\n",
       "        text-align: right;\n",
       "    }\n",
       "</style>\n",
       "<table border=\"1\" class=\"dataframe\">\n",
       "  <thead>\n",
       "    <tr style=\"text-align: right;\">\n",
       "      <th></th>\n",
       "      <th>label</th>\n",
       "      <th>path</th>\n",
       "    </tr>\n",
       "  </thead>\n",
       "  <tbody>\n",
       "    <tr>\n",
       "      <th>0</th>\n",
       "      <td>bodycon</td>\n",
       "      <td>img/Tribal_Patterned_Bodycon_Dress/img_0000000...</td>\n",
       "    </tr>\n",
       "    <tr>\n",
       "      <th>1</th>\n",
       "      <td>fit</td>\n",
       "      <td>img/Ribbed_Fit_&amp;_Flare_Dress/img_00000006.jpg</td>\n",
       "    </tr>\n",
       "    <tr>\n",
       "      <th>2</th>\n",
       "      <td>fit</td>\n",
       "      <td>img/Fit_&amp;_Flare_Tee_Dress/img_00000028.jpg</td>\n",
       "    </tr>\n",
       "    <tr>\n",
       "      <th>3</th>\n",
       "      <td>crop</td>\n",
       "      <td>img/Cropped_Purl_Knit_Sweater/img_00000009.jpg</td>\n",
       "    </tr>\n",
       "    <tr>\n",
       "      <th>4</th>\n",
       "      <td>shirt</td>\n",
       "      <td>img/Leaf_Print_Blouse/img_00000045.jpg</td>\n",
       "    </tr>\n",
       "  </tbody>\n",
       "</table>\n",
       "</div>"
      ],
      "text/plain": [
       "     label                                               path\n",
       "0  bodycon  img/Tribal_Patterned_Bodycon_Dress/img_0000000...\n",
       "1      fit      img/Ribbed_Fit_&_Flare_Dress/img_00000006.jpg\n",
       "2      fit         img/Fit_&_Flare_Tee_Dress/img_00000028.jpg\n",
       "3     crop     img/Cropped_Purl_Knit_Sweater/img_00000009.jpg\n",
       "4    shirt             img/Leaf_Print_Blouse/img_00000045.jpg"
      ]
     },
     "execution_count": 14,
     "metadata": {},
     "output_type": "execute_result"
    }
   ],
   "source": [
    "test.head()"
   ]
  },
  {
   "cell_type": "code",
   "execution_count": 14,
   "metadata": {
    "collapsed": false,
    "deletable": true,
    "editable": true
   },
   "outputs": [
    {
     "name": "stdout",
     "output_type": "stream",
     "text": [
      "Total Images : 7493\n",
      "0\n",
      "1000\n",
      "2000\n",
      "3000\n",
      "4000\n",
      "5000\n",
      "6000\n",
      "7000\n"
     ]
    }
   ],
   "source": [
    "## create directories and save data\n",
    "# dest_dir = '/media/mint/New Volume/3_semester_IIIT_D/CF/project/small_data_attri3/test/'\n",
    "dest_dir = '/media/mint/New Volume/3_semester_IIIT_D/CF/project/30_11_new/small_data_attri3/test/'\n",
    "\n",
    "def create_folders(data):\n",
    "    \n",
    "    print \"Total Images : \"+str(data.shape[0])\n",
    "    global dest_dir\n",
    "    for i in data.index:\n",
    "        label = data.iloc[i]['label']\n",
    "        #print label\n",
    "        src = img_path+data.iloc[i]['path']\n",
    "        #print src\n",
    "        #print dest_dir+'/'+label\n",
    "        #break\n",
    "        \n",
    "        'kgfdsuayezutrxykclufgohiJ:PUOYTira'\n",
    "        \n",
    "#         if not os.path.exists(dest_dir+label):\n",
    "#             os.makedirs(dest_dir+label)\n",
    "            \n",
    "        copyfile(src, dest_dir+label+'/'+data.iloc[i]['path'].split('/')[-2]+'_'+data.iloc[i]['path'].split('/')[-1])\n",
    "        if i%1000==0:\n",
    "            print i\n",
    "    \n",
    "create_folders(test)    "
   ]
  },
  {
   "cell_type": "code",
   "execution_count": 15,
   "metadata": {
    "collapsed": false,
    "deletable": true,
    "editable": true
   },
   "outputs": [
    {
     "name": "stdout",
     "output_type": "stream",
     "text": [
      "Total Images : 22477\n",
      "0\n",
      "1000\n",
      "2000\n",
      "3000\n",
      "4000\n",
      "5000\n",
      "6000\n",
      "7000\n",
      "8000\n",
      "9000\n",
      "10000\n",
      "11000\n",
      "12000\n",
      "13000\n",
      "14000\n",
      "15000\n",
      "16000\n",
      "17000\n",
      "18000\n",
      "19000\n",
      "20000\n",
      "21000\n",
      "22000\n"
     ]
    }
   ],
   "source": [
    "## create directories and save data\n",
    "# dest_dir = '/media/mint/New Volume/3_semester_IIIT_D/CF/project/small_data_attri3/val/'\n",
    "dest_dir = '/media/mint/New Volume/3_semester_IIIT_D/CF/project/30_11_new/small_data_attri3/val/'\n",
    "\n",
    "def create_folders(data):\n",
    "    \n",
    "    print \"Total Images : \"+str(data.shape[0])\n",
    "    global dest_dir\n",
    "    for i in data.index:\n",
    "        label = data.iloc[i]['label']\n",
    "        src = img_path+data.iloc[i]['path']\n",
    "        \n",
    "        \n",
    "        \n",
    "        \n",
    "        \n",
    "        \n",
    "        \n",
    "        \n",
    "        \n",
    "        \n",
    "        \n",
    "        \n",
    "        \n",
    "        \n",
    "        \n",
    "        \n",
    "        \n",
    "        \n",
    "        \n",
    "        \n",
    "        \n",
    "        \n",
    "        \n",
    "        \n",
    "        \n",
    "        \n",
    "        \n",
    "        \n",
    "        \n",
    "        \n",
    "        \n",
    "#         if not os.path.exists(dest_dir+label):\n",
    "#             os.makedirs(dest_dir+label)\n",
    "            \n",
    "        copyfile(src, dest_dir+label+'/'+data.iloc[i]['path'].split('/')[-2]+'_'+data.iloc[i]['path'].split('/')[-1])\n",
    "        if i%1000==0:\n",
    "            print i\n",
    "    \n",
    "create_folders(val)    "
   ]
  },
  {
   "cell_type": "code",
   "execution_count": 15,
   "metadata": {
    "collapsed": true,
    "deletable": true,
    "editable": true
   },
   "outputs": [],
   "source": [
    "N_CLASSES = 5"
   ]
  }
 ],
 "metadata": {
  "kernelspec": {
   "display_name": "Python 2",
   "language": "python",
   "name": "python2"
  },
  "language_info": {
   "codemirror_mode": {
    "name": "ipython",
    "version": 2
   },
   "file_extension": ".py",
   "mimetype": "text/x-python",
   "name": "python",
   "nbconvert_exporter": "python",
   "pygments_lexer": "ipython2",
   "version": "2.7.15"
  }
 },
 "nbformat": 4,
 "nbformat_minor": 2
}
